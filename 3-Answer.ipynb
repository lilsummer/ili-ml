{
 "cells": [
  {
   "cell_type": "markdown",
   "metadata": {},
   "source": [
    "## SUMMARY\n",
    "\n",
    "* Weekly average cases from each state was computed and weekly avarge in a year ago was used as a feature.\n",
    "* Model performance was improved to 0.74 (r^2 score)\n",
    "* A two-layer LSTM model were used, performance was poor (Model maybe underfit and need to change the architecture or increase the epochs)"
   ]
  },
  {
   "cell_type": "markdown",
   "metadata": {},
   "source": [
    "## Answer"
   ]
  },
  {
   "cell_type": "markdown",
   "metadata": {},
   "source": [
    "* Please report the forecasted values for the 20-day period for each of the states.\n",
    "\n",
    "(Please see the attachment prediction.csv)\n",
    "\n",
    "* Please visualize the evolving ILI intensity throughout the Winter season of 2017/8, including your\n",
    "forecasted values.\n",
    "\n",
    "(see 1-EDA.ipynb Figure 2)\n",
    "\n",
    "* Please characterize the performance of the model and suggest potential improvements.\n",
    "\n",
    "    * GBM with general time related feature: R_square = 0.73, MSE = 2.3E8\n",
    "    * GBM with general time features and weekly avaerage feature from previous year: R_square = 0.74, MSE = 2.2E8\n",
    "\n",
    "\n",
    "* Why did you select a particular model?\n",
    "\n",
    "    * Use GBM because 1) it is fast to train (takes 2 mins in this case) 2) usually have robust performance 3) Grid search was performed by AutoML\n",
    "    \n",
    "\n",
    "* What other approaches may work?\n",
    "\n",
    "    * Conventional time series model such as ARIMA\n",
    "    * For LSTM, we may try to use a different architechture and different activation functions. To avoid underfitting we may need to train for longer epochs.\n",
    "    \n",
    "* How would your approach change if you had more granular data (counties, zip codes)?\n",
    "\n",
    "    * For the current GBM model, these features may not change the model performance because it is on the state level\n",
    "    * Instead, if we were to build a geospatial model these features may be helpful to model the disease transmission on a temporal spatial level (we can look at spatial autocorrelation, temporal spatio clustering to determine the outbreak center and the scale of disease transmission). \n",
    "\n",
    "\n",
    "* How would your approach change if you needed to make predictions three months ahead rather\n",
    "than three weeks ahead?\n",
    "\n",
    "    * If we were to predict three months ahead we might need a longer time frame for the training data. We also need to estimate the R_0 and beta (effective contact rate), incorporate those into the model to better predict the progression of flu transmission. \n",
    "\n",
    "\n",
    "* Which other data sources would you include if you had more time for this problem?\n",
    "\n",
    "    * Population mobility between PA, NY and NJ; this helps to predict the total number of ILI cases in each states\n",
    "    * The estimation of R_0 and beta for the subtype of influenza virus that is currently circulating\n",
    "    * Vaccine efficacy, population immunity, recovering time, etc"
   ]
  },
  {
   "cell_type": "markdown",
   "metadata": {},
   "source": [
    "## Load data"
   ]
  },
  {
   "cell_type": "code",
   "execution_count": 704,
   "metadata": {},
   "outputs": [],
   "source": [
    "import pandas as pd\n",
    "import numpy as np\n",
    "import matplotlib as mpl\n",
    "from cycler import cycler\n",
    "import matplotlib.pyplot as plt\n",
    "import matplotlib.dates as mdates\n",
    "from matplotlib.dates import DateFormatter\n",
    "from datetime import datetime\n",
    "from scipy import stats\n",
    "import scipy.stats as ss\n",
    "from h2o.automl import H2OAutoML\n",
    "from keras.models import Sequential\n",
    "\n",
    "from keras.preprocessing import sequence\n",
    "from keras.models import Sequential\n",
    "from keras.layers import Dense, Embedding\n",
    "from keras.layers import LSTM\n",
    "from keras.utils import to_categorical\n",
    "import operator\n",
    "import re\n",
    "\n",
    "from sklearn.preprocessing import LabelEncoder\n",
    "from sklearn.preprocessing import MinMaxScaler"
   ]
  },
  {
   "cell_type": "code",
   "execution_count": 705,
   "metadata": {},
   "outputs": [],
   "source": [
    "import sys\n",
    "sys.executable\n",
    "import h2o\n",
    "\n",
    "from sklearn.metrics import r2_score, mean_squared_error"
   ]
  },
  {
   "cell_type": "code",
   "execution_count": 706,
   "metadata": {},
   "outputs": [],
   "source": [
    "from datetime import datetime\n",
    "import time"
   ]
  },
  {
   "cell_type": "code",
   "execution_count": 707,
   "metadata": {},
   "outputs": [
    {
     "data": {
      "text/html": [
       "<div>\n",
       "<style scoped>\n",
       "    .dataframe tbody tr th:only-of-type {\n",
       "        vertical-align: middle;\n",
       "    }\n",
       "\n",
       "    .dataframe tbody tr th {\n",
       "        vertical-align: top;\n",
       "    }\n",
       "\n",
       "    .dataframe thead th {\n",
       "        text-align: right;\n",
       "    }\n",
       "</style>\n",
       "<table border=\"1\" class=\"dataframe\">\n",
       "  <thead>\n",
       "    <tr style=\"text-align: right;\">\n",
       "      <th></th>\n",
       "      <th>state</th>\n",
       "      <th>date</th>\n",
       "      <th>value</th>\n",
       "    </tr>\n",
       "  </thead>\n",
       "  <tbody>\n",
       "    <tr>\n",
       "      <th>107</th>\n",
       "      <td>NJ</td>\n",
       "      <td>20151002</td>\n",
       "      <td>4293.414810</td>\n",
       "    </tr>\n",
       "    <tr>\n",
       "      <th>108</th>\n",
       "      <td>NJ</td>\n",
       "      <td>20151003</td>\n",
       "      <td>5977.121664</td>\n",
       "    </tr>\n",
       "    <tr>\n",
       "      <th>109</th>\n",
       "      <td>NJ</td>\n",
       "      <td>20151004</td>\n",
       "      <td>1903.517673</td>\n",
       "    </tr>\n",
       "    <tr>\n",
       "      <th>110</th>\n",
       "      <td>NJ</td>\n",
       "      <td>20151005</td>\n",
       "      <td>20754.601160</td>\n",
       "    </tr>\n",
       "    <tr>\n",
       "      <th>111</th>\n",
       "      <td>NJ</td>\n",
       "      <td>20151006</td>\n",
       "      <td>12885.652476</td>\n",
       "    </tr>\n",
       "  </tbody>\n",
       "</table>\n",
       "</div>"
      ],
      "text/plain": [
       "    state      date         value\n",
       "107    NJ  20151002   4293.414810\n",
       "108    NJ  20151003   5977.121664\n",
       "109    NJ  20151004   1903.517673\n",
       "110    NJ  20151005  20754.601160\n",
       "111    NJ  20151006  12885.652476"
      ]
     },
     "execution_count": 707,
     "metadata": {},
     "output_type": "execute_result"
    }
   ],
   "source": [
    "mydata = pd.read_csv('state_traces.csv', index_col=[0])\n",
    "mydata.head()"
   ]
  },
  {
   "cell_type": "code",
   "execution_count": 708,
   "metadata": {},
   "outputs": [],
   "source": [
    "mydata['month'] = [str(i)[4:6] for i in mydata.date]\n",
    "mydata['datestr'] = [(str(i)[:4]+'-' + str(i)[4:6] + '-' + str(i)[6:]) for i in mydata.date]\n",
    "mydata['dateobj'] = [datetime.strptime(i, \"%Y-%m-%d\") for i in mydata.datestr]\n",
    "mydata['timestamp'] = [time.mktime(i.timetuple()) for i in mydata.dateobj]\n",
    "mydata['year'] = [str(i)[:4] for i in mydata.datestr]\n"
   ]
  },
  {
   "cell_type": "code",
   "execution_count": 709,
   "metadata": {},
   "outputs": [
    {
     "data": {
      "text/html": [
       "<div>\n",
       "<style scoped>\n",
       "    .dataframe tbody tr th:only-of-type {\n",
       "        vertical-align: middle;\n",
       "    }\n",
       "\n",
       "    .dataframe tbody tr th {\n",
       "        vertical-align: top;\n",
       "    }\n",
       "\n",
       "    .dataframe thead th {\n",
       "        text-align: right;\n",
       "    }\n",
       "</style>\n",
       "<table border=\"1\" class=\"dataframe\">\n",
       "  <thead>\n",
       "    <tr style=\"text-align: right;\">\n",
       "      <th></th>\n",
       "      <th>state</th>\n",
       "      <th>date</th>\n",
       "      <th>value</th>\n",
       "      <th>month</th>\n",
       "      <th>datestr</th>\n",
       "      <th>dateobj</th>\n",
       "      <th>timestamp</th>\n",
       "      <th>year</th>\n",
       "    </tr>\n",
       "  </thead>\n",
       "  <tbody>\n",
       "    <tr>\n",
       "      <th>107</th>\n",
       "      <td>NJ</td>\n",
       "      <td>20151002</td>\n",
       "      <td>4293.414810</td>\n",
       "      <td>10</td>\n",
       "      <td>2015-10-02</td>\n",
       "      <td>2015-10-02</td>\n",
       "      <td>1.443766e+09</td>\n",
       "      <td>2015</td>\n",
       "    </tr>\n",
       "    <tr>\n",
       "      <th>108</th>\n",
       "      <td>NJ</td>\n",
       "      <td>20151003</td>\n",
       "      <td>5977.121664</td>\n",
       "      <td>10</td>\n",
       "      <td>2015-10-03</td>\n",
       "      <td>2015-10-03</td>\n",
       "      <td>1.443852e+09</td>\n",
       "      <td>2015</td>\n",
       "    </tr>\n",
       "    <tr>\n",
       "      <th>109</th>\n",
       "      <td>NJ</td>\n",
       "      <td>20151004</td>\n",
       "      <td>1903.517673</td>\n",
       "      <td>10</td>\n",
       "      <td>2015-10-04</td>\n",
       "      <td>2015-10-04</td>\n",
       "      <td>1.443938e+09</td>\n",
       "      <td>2015</td>\n",
       "    </tr>\n",
       "    <tr>\n",
       "      <th>110</th>\n",
       "      <td>NJ</td>\n",
       "      <td>20151005</td>\n",
       "      <td>20754.601160</td>\n",
       "      <td>10</td>\n",
       "      <td>2015-10-05</td>\n",
       "      <td>2015-10-05</td>\n",
       "      <td>1.444025e+09</td>\n",
       "      <td>2015</td>\n",
       "    </tr>\n",
       "    <tr>\n",
       "      <th>111</th>\n",
       "      <td>NJ</td>\n",
       "      <td>20151006</td>\n",
       "      <td>12885.652476</td>\n",
       "      <td>10</td>\n",
       "      <td>2015-10-06</td>\n",
       "      <td>2015-10-06</td>\n",
       "      <td>1.444111e+09</td>\n",
       "      <td>2015</td>\n",
       "    </tr>\n",
       "  </tbody>\n",
       "</table>\n",
       "</div>"
      ],
      "text/plain": [
       "    state      date         value month     datestr    dateobj     timestamp  \\\n",
       "107    NJ  20151002   4293.414810    10  2015-10-02 2015-10-02  1.443766e+09   \n",
       "108    NJ  20151003   5977.121664    10  2015-10-03 2015-10-03  1.443852e+09   \n",
       "109    NJ  20151004   1903.517673    10  2015-10-04 2015-10-04  1.443938e+09   \n",
       "110    NJ  20151005  20754.601160    10  2015-10-05 2015-10-05  1.444025e+09   \n",
       "111    NJ  20151006  12885.652476    10  2015-10-06 2015-10-06  1.444111e+09   \n",
       "\n",
       "     year  \n",
       "107  2015  \n",
       "108  2015  \n",
       "109  2015  \n",
       "110  2015  \n",
       "111  2015  "
      ]
     },
     "execution_count": 709,
     "metadata": {},
     "output_type": "execute_result"
    }
   ],
   "source": [
    "mydata.head()"
   ]
  },
  {
   "cell_type": "code",
   "execution_count": 710,
   "metadata": {},
   "outputs": [],
   "source": [
    "mydata['DOY'] = [time.strftime('%j', time.gmtime(i)) for i in mydata.timestamp]\n",
    "mydata['DOM'] = [time.strftime('%d', time.gmtime(i)) for i in mydata.timestamp]\n",
    "mydata['DOW'] = [time.strftime('%w', time.gmtime(i)) for i in mydata.timestamp]\n",
    "mydata['Week'] = [time.strftime('%U', time.gmtime(i)) for i in mydata.timestamp]"
   ]
  },
  {
   "cell_type": "code",
   "execution_count": 711,
   "metadata": {},
   "outputs": [
    {
     "data": {
      "text/html": [
       "<div>\n",
       "<style scoped>\n",
       "    .dataframe tbody tr th:only-of-type {\n",
       "        vertical-align: middle;\n",
       "    }\n",
       "\n",
       "    .dataframe tbody tr th {\n",
       "        vertical-align: top;\n",
       "    }\n",
       "\n",
       "    .dataframe thead th {\n",
       "        text-align: right;\n",
       "    }\n",
       "</style>\n",
       "<table border=\"1\" class=\"dataframe\">\n",
       "  <thead>\n",
       "    <tr style=\"text-align: right;\">\n",
       "      <th></th>\n",
       "      <th>state</th>\n",
       "      <th>date</th>\n",
       "      <th>value</th>\n",
       "      <th>month</th>\n",
       "      <th>datestr</th>\n",
       "      <th>dateobj</th>\n",
       "      <th>timestamp</th>\n",
       "      <th>year</th>\n",
       "      <th>DOY</th>\n",
       "      <th>DOM</th>\n",
       "      <th>DOW</th>\n",
       "      <th>Week</th>\n",
       "    </tr>\n",
       "  </thead>\n",
       "  <tbody>\n",
       "    <tr>\n",
       "      <th>107</th>\n",
       "      <td>NJ</td>\n",
       "      <td>20151002</td>\n",
       "      <td>4293.414810</td>\n",
       "      <td>10</td>\n",
       "      <td>2015-10-02</td>\n",
       "      <td>2015-10-02</td>\n",
       "      <td>1.443766e+09</td>\n",
       "      <td>2015</td>\n",
       "      <td>275</td>\n",
       "      <td>02</td>\n",
       "      <td>5</td>\n",
       "      <td>39</td>\n",
       "    </tr>\n",
       "    <tr>\n",
       "      <th>108</th>\n",
       "      <td>NJ</td>\n",
       "      <td>20151003</td>\n",
       "      <td>5977.121664</td>\n",
       "      <td>10</td>\n",
       "      <td>2015-10-03</td>\n",
       "      <td>2015-10-03</td>\n",
       "      <td>1.443852e+09</td>\n",
       "      <td>2015</td>\n",
       "      <td>276</td>\n",
       "      <td>03</td>\n",
       "      <td>6</td>\n",
       "      <td>39</td>\n",
       "    </tr>\n",
       "    <tr>\n",
       "      <th>109</th>\n",
       "      <td>NJ</td>\n",
       "      <td>20151004</td>\n",
       "      <td>1903.517673</td>\n",
       "      <td>10</td>\n",
       "      <td>2015-10-04</td>\n",
       "      <td>2015-10-04</td>\n",
       "      <td>1.443938e+09</td>\n",
       "      <td>2015</td>\n",
       "      <td>277</td>\n",
       "      <td>04</td>\n",
       "      <td>0</td>\n",
       "      <td>40</td>\n",
       "    </tr>\n",
       "    <tr>\n",
       "      <th>110</th>\n",
       "      <td>NJ</td>\n",
       "      <td>20151005</td>\n",
       "      <td>20754.601160</td>\n",
       "      <td>10</td>\n",
       "      <td>2015-10-05</td>\n",
       "      <td>2015-10-05</td>\n",
       "      <td>1.444025e+09</td>\n",
       "      <td>2015</td>\n",
       "      <td>278</td>\n",
       "      <td>05</td>\n",
       "      <td>1</td>\n",
       "      <td>40</td>\n",
       "    </tr>\n",
       "    <tr>\n",
       "      <th>111</th>\n",
       "      <td>NJ</td>\n",
       "      <td>20151006</td>\n",
       "      <td>12885.652476</td>\n",
       "      <td>10</td>\n",
       "      <td>2015-10-06</td>\n",
       "      <td>2015-10-06</td>\n",
       "      <td>1.444111e+09</td>\n",
       "      <td>2015</td>\n",
       "      <td>279</td>\n",
       "      <td>06</td>\n",
       "      <td>2</td>\n",
       "      <td>40</td>\n",
       "    </tr>\n",
       "  </tbody>\n",
       "</table>\n",
       "</div>"
      ],
      "text/plain": [
       "    state      date         value month     datestr    dateobj     timestamp  \\\n",
       "107    NJ  20151002   4293.414810    10  2015-10-02 2015-10-02  1.443766e+09   \n",
       "108    NJ  20151003   5977.121664    10  2015-10-03 2015-10-03  1.443852e+09   \n",
       "109    NJ  20151004   1903.517673    10  2015-10-04 2015-10-04  1.443938e+09   \n",
       "110    NJ  20151005  20754.601160    10  2015-10-05 2015-10-05  1.444025e+09   \n",
       "111    NJ  20151006  12885.652476    10  2015-10-06 2015-10-06  1.444111e+09   \n",
       "\n",
       "     year  DOY DOM DOW Week  \n",
       "107  2015  275  02   5   39  \n",
       "108  2015  276  03   6   39  \n",
       "109  2015  277  04   0   40  \n",
       "110  2015  278  05   1   40  \n",
       "111  2015  279  06   2   40  "
      ]
     },
     "execution_count": 711,
     "metadata": {},
     "output_type": "execute_result"
    }
   ],
   "source": [
    "mydata.head()"
   ]
  },
  {
   "cell_type": "code",
   "execution_count": 712,
   "metadata": {},
   "outputs": [],
   "source": [
    "cm = plt.get_cmap('viridis')"
   ]
  },
  {
   "cell_type": "code",
   "execution_count": 713,
   "metadata": {},
   "outputs": [],
   "source": [
    "plt.rc('axes', prop_cycle=(cycler('color', [cm(1/float(i)) for i in range(1,5)]) ))"
   ]
  },
  {
   "cell_type": "markdown",
   "metadata": {},
   "source": [
    "### Add weekly average feature (not moving average)"
   ]
  },
  {
   "cell_type": "code",
   "execution_count": 714,
   "metadata": {},
   "outputs": [
    {
     "data": {
      "text/html": [
       "<div>\n",
       "<style scoped>\n",
       "    .dataframe tbody tr th:only-of-type {\n",
       "        vertical-align: middle;\n",
       "    }\n",
       "\n",
       "    .dataframe tbody tr th {\n",
       "        vertical-align: top;\n",
       "    }\n",
       "\n",
       "    .dataframe thead th {\n",
       "        text-align: right;\n",
       "    }\n",
       "</style>\n",
       "<table border=\"1\" class=\"dataframe\">\n",
       "  <thead>\n",
       "    <tr style=\"text-align: right;\">\n",
       "      <th></th>\n",
       "      <th>state</th>\n",
       "      <th>year</th>\n",
       "      <th>Week</th>\n",
       "      <th>value</th>\n",
       "    </tr>\n",
       "  </thead>\n",
       "  <tbody>\n",
       "    <tr>\n",
       "      <th>0</th>\n",
       "      <td>NJ</td>\n",
       "      <td>2015</td>\n",
       "      <td>39</td>\n",
       "      <td>5135.268237</td>\n",
       "    </tr>\n",
       "    <tr>\n",
       "      <th>1</th>\n",
       "      <td>NJ</td>\n",
       "      <td>2015</td>\n",
       "      <td>40</td>\n",
       "      <td>12150.925737</td>\n",
       "    </tr>\n",
       "    <tr>\n",
       "      <th>2</th>\n",
       "      <td>NJ</td>\n",
       "      <td>2015</td>\n",
       "      <td>41</td>\n",
       "      <td>13496.370331</td>\n",
       "    </tr>\n",
       "    <tr>\n",
       "      <th>3</th>\n",
       "      <td>NJ</td>\n",
       "      <td>2015</td>\n",
       "      <td>42</td>\n",
       "      <td>11221.587924</td>\n",
       "    </tr>\n",
       "    <tr>\n",
       "      <th>4</th>\n",
       "      <td>NJ</td>\n",
       "      <td>2015</td>\n",
       "      <td>43</td>\n",
       "      <td>11810.641927</td>\n",
       "    </tr>\n",
       "  </tbody>\n",
       "</table>\n",
       "</div>"
      ],
      "text/plain": [
       "  state  year Week         value\n",
       "0    NJ  2015   39   5135.268237\n",
       "1    NJ  2015   40  12150.925737\n",
       "2    NJ  2015   41  13496.370331\n",
       "3    NJ  2015   42  11221.587924\n",
       "4    NJ  2015   43  11810.641927"
      ]
     },
     "execution_count": 714,
     "metadata": {},
     "output_type": "execute_result"
    }
   ],
   "source": [
    "weekly = mydata[['state','year','Week', 'value']]\\\n",
    ".groupby(['state','year', 'Week'])['value'].mean().reset_index()\n",
    "weekly.head()"
   ]
  },
  {
   "cell_type": "code",
   "execution_count": 715,
   "metadata": {},
   "outputs": [],
   "source": [
    "weekly.rename(columns = {'value':'weekly_avg'}, inplace = True)"
   ]
  },
  {
   "cell_type": "code",
   "execution_count": 716,
   "metadata": {},
   "outputs": [],
   "source": [
    "mydata = mydata.merge(weekly, how='left', on=['state', 'year', 'Week'])"
   ]
  },
  {
   "cell_type": "code",
   "execution_count": 717,
   "metadata": {},
   "outputs": [
    {
     "data": {
      "text/html": [
       "<div>\n",
       "<style scoped>\n",
       "    .dataframe tbody tr th:only-of-type {\n",
       "        vertical-align: middle;\n",
       "    }\n",
       "\n",
       "    .dataframe tbody tr th {\n",
       "        vertical-align: top;\n",
       "    }\n",
       "\n",
       "    .dataframe thead th {\n",
       "        text-align: right;\n",
       "    }\n",
       "</style>\n",
       "<table border=\"1\" class=\"dataframe\">\n",
       "  <thead>\n",
       "    <tr style=\"text-align: right;\">\n",
       "      <th></th>\n",
       "      <th>state</th>\n",
       "      <th>date</th>\n",
       "      <th>value</th>\n",
       "      <th>month</th>\n",
       "      <th>datestr</th>\n",
       "      <th>dateobj</th>\n",
       "      <th>timestamp</th>\n",
       "      <th>year</th>\n",
       "      <th>DOY</th>\n",
       "      <th>DOM</th>\n",
       "      <th>DOW</th>\n",
       "      <th>Week</th>\n",
       "      <th>weekly_avg</th>\n",
       "    </tr>\n",
       "  </thead>\n",
       "  <tbody>\n",
       "    <tr>\n",
       "      <th>0</th>\n",
       "      <td>NJ</td>\n",
       "      <td>20151002</td>\n",
       "      <td>4293.414810</td>\n",
       "      <td>10</td>\n",
       "      <td>2015-10-02</td>\n",
       "      <td>2015-10-02</td>\n",
       "      <td>1.443766e+09</td>\n",
       "      <td>2015</td>\n",
       "      <td>275</td>\n",
       "      <td>02</td>\n",
       "      <td>5</td>\n",
       "      <td>39</td>\n",
       "      <td>5135.268237</td>\n",
       "    </tr>\n",
       "    <tr>\n",
       "      <th>1</th>\n",
       "      <td>NJ</td>\n",
       "      <td>20151003</td>\n",
       "      <td>5977.121664</td>\n",
       "      <td>10</td>\n",
       "      <td>2015-10-03</td>\n",
       "      <td>2015-10-03</td>\n",
       "      <td>1.443852e+09</td>\n",
       "      <td>2015</td>\n",
       "      <td>276</td>\n",
       "      <td>03</td>\n",
       "      <td>6</td>\n",
       "      <td>39</td>\n",
       "      <td>5135.268237</td>\n",
       "    </tr>\n",
       "    <tr>\n",
       "      <th>2</th>\n",
       "      <td>NJ</td>\n",
       "      <td>20151004</td>\n",
       "      <td>1903.517673</td>\n",
       "      <td>10</td>\n",
       "      <td>2015-10-04</td>\n",
       "      <td>2015-10-04</td>\n",
       "      <td>1.443938e+09</td>\n",
       "      <td>2015</td>\n",
       "      <td>277</td>\n",
       "      <td>04</td>\n",
       "      <td>0</td>\n",
       "      <td>40</td>\n",
       "      <td>12150.925737</td>\n",
       "    </tr>\n",
       "    <tr>\n",
       "      <th>3</th>\n",
       "      <td>NJ</td>\n",
       "      <td>20151005</td>\n",
       "      <td>20754.601160</td>\n",
       "      <td>10</td>\n",
       "      <td>2015-10-05</td>\n",
       "      <td>2015-10-05</td>\n",
       "      <td>1.444025e+09</td>\n",
       "      <td>2015</td>\n",
       "      <td>278</td>\n",
       "      <td>05</td>\n",
       "      <td>1</td>\n",
       "      <td>40</td>\n",
       "      <td>12150.925737</td>\n",
       "    </tr>\n",
       "    <tr>\n",
       "      <th>4</th>\n",
       "      <td>NJ</td>\n",
       "      <td>20151006</td>\n",
       "      <td>12885.652476</td>\n",
       "      <td>10</td>\n",
       "      <td>2015-10-06</td>\n",
       "      <td>2015-10-06</td>\n",
       "      <td>1.444111e+09</td>\n",
       "      <td>2015</td>\n",
       "      <td>279</td>\n",
       "      <td>06</td>\n",
       "      <td>2</td>\n",
       "      <td>40</td>\n",
       "      <td>12150.925737</td>\n",
       "    </tr>\n",
       "  </tbody>\n",
       "</table>\n",
       "</div>"
      ],
      "text/plain": [
       "  state      date         value month     datestr    dateobj     timestamp  \\\n",
       "0    NJ  20151002   4293.414810    10  2015-10-02 2015-10-02  1.443766e+09   \n",
       "1    NJ  20151003   5977.121664    10  2015-10-03 2015-10-03  1.443852e+09   \n",
       "2    NJ  20151004   1903.517673    10  2015-10-04 2015-10-04  1.443938e+09   \n",
       "3    NJ  20151005  20754.601160    10  2015-10-05 2015-10-05  1.444025e+09   \n",
       "4    NJ  20151006  12885.652476    10  2015-10-06 2015-10-06  1.444111e+09   \n",
       "\n",
       "   year  DOY DOM DOW Week    weekly_avg  \n",
       "0  2015  275  02   5   39   5135.268237  \n",
       "1  2015  276  03   6   39   5135.268237  \n",
       "2  2015  277  04   0   40  12150.925737  \n",
       "3  2015  278  05   1   40  12150.925737  \n",
       "4  2015  279  06   2   40  12150.925737  "
      ]
     },
     "execution_count": 717,
     "metadata": {},
     "output_type": "execute_result"
    }
   ],
   "source": [
    "mydata.head()"
   ]
  },
  {
   "cell_type": "code",
   "execution_count": 718,
   "metadata": {},
   "outputs": [
    {
     "name": "stdout",
     "output_type": "stream",
     "text": [
      "NJ  :  1443765600.0 1516777200.0\n",
      "NY  :  1443765600.0 1516777200.0\n",
      "PA  :  1443765600.0 1516777200.0\n"
     ]
    },
    {
     "data": {
      "text/plain": [
       "{'NJ': [1502174880.0, 1509476040.0, 1516777200.0],\n",
       " 'NY': [1502174880.0, 1509476040.0, 1516777200.0],\n",
       " 'PA': [1502174880.0, 1509476040.0, 1516777200.0]}"
      ]
     },
     "execution_count": 718,
     "metadata": {},
     "output_type": "execute_result"
    }
   ],
   "source": [
    "time_list = dict()\n",
    "\n",
    "for state in mydata.state.unique():\n",
    "    mymin = mydata[mydata.state == state]['timestamp'].min()\n",
    "    mymax = mydata[mydata.state == state]['timestamp'].max()\n",
    "    mysp1 = mymin + (mymax-mymin)*.8\n",
    "    mysp2 = mymin + (mymax - mymin)*.9\n",
    "    print(state, \" : \", mymin, mymax)\n",
    "    time_list.update({state: [mysp1, mysp2, mymax]})\n",
    "\n",
    "time_list"
   ]
  },
  {
   "cell_type": "code",
   "execution_count": 719,
   "metadata": {},
   "outputs": [],
   "source": [
    "mytrain = pd.DataFrame()\n",
    "mycv = pd.DataFrame()\n",
    "mytest = pd.DataFrame()\n",
    "\n",
    "for state in mydata.state.unique():\n",
    "    train = mydata[(mydata.state == state)& (mydata.timestamp < time_list[state][0] )]\n",
    "    mytrain = mytrain.append(pd.DataFrame(data = train), ignore_index = True)\n",
    "    \n",
    "    cv = mydata[(mydata.state == state) & (mydata.timestamp >= time_list[state][0]) & (mydata.timestamp < time_list[state][1])]\n",
    "    mycv = mycv.append(pd.DataFrame(data = cv), ignore_index = True)\n",
    "    \n",
    "    test = mydata[(mydata.state == state) & (mydata.timestamp >= time_list[state][1])]\n",
    "    mytest = mytest.append(pd.DataFrame(data = test), ignore_index = True)\n",
    " "
   ]
  },
  {
   "cell_type": "code",
   "execution_count": 730,
   "metadata": {},
   "outputs": [
    {
     "data": {
      "text/html": [
       "<div>\n",
       "<style scoped>\n",
       "    .dataframe tbody tr th:only-of-type {\n",
       "        vertical-align: middle;\n",
       "    }\n",
       "\n",
       "    .dataframe tbody tr th {\n",
       "        vertical-align: top;\n",
       "    }\n",
       "\n",
       "    .dataframe thead th {\n",
       "        text-align: right;\n",
       "    }\n",
       "</style>\n",
       "<table border=\"1\" class=\"dataframe\">\n",
       "  <thead>\n",
       "    <tr style=\"text-align: right;\">\n",
       "      <th></th>\n",
       "      <th>state</th>\n",
       "      <th>date</th>\n",
       "      <th>value</th>\n",
       "      <th>month</th>\n",
       "      <th>datestr</th>\n",
       "      <th>dateobj</th>\n",
       "      <th>timestamp</th>\n",
       "      <th>year</th>\n",
       "      <th>DOY</th>\n",
       "      <th>DOM</th>\n",
       "      <th>DOW</th>\n",
       "      <th>Week</th>\n",
       "      <th>weekly_avg</th>\n",
       "    </tr>\n",
       "  </thead>\n",
       "  <tbody>\n",
       "    <tr>\n",
       "      <th>0</th>\n",
       "      <td>NJ</td>\n",
       "      <td>20171101</td>\n",
       "      <td>46918.389135</td>\n",
       "      <td>11</td>\n",
       "      <td>2017-11-01</td>\n",
       "      <td>2017-11-01</td>\n",
       "      <td>1.509516e+09</td>\n",
       "      <td>2017</td>\n",
       "      <td>305</td>\n",
       "      <td>01</td>\n",
       "      <td>3</td>\n",
       "      <td>44</td>\n",
       "      <td>34047.512693</td>\n",
       "    </tr>\n",
       "    <tr>\n",
       "      <th>1</th>\n",
       "      <td>NJ</td>\n",
       "      <td>20171102</td>\n",
       "      <td>33927.370164</td>\n",
       "      <td>11</td>\n",
       "      <td>2017-11-02</td>\n",
       "      <td>2017-11-02</td>\n",
       "      <td>1.509602e+09</td>\n",
       "      <td>2017</td>\n",
       "      <td>306</td>\n",
       "      <td>02</td>\n",
       "      <td>4</td>\n",
       "      <td>44</td>\n",
       "      <td>34047.512693</td>\n",
       "    </tr>\n",
       "    <tr>\n",
       "      <th>2</th>\n",
       "      <td>NJ</td>\n",
       "      <td>20171103</td>\n",
       "      <td>41595.745103</td>\n",
       "      <td>11</td>\n",
       "      <td>2017-11-03</td>\n",
       "      <td>2017-11-03</td>\n",
       "      <td>1.509689e+09</td>\n",
       "      <td>2017</td>\n",
       "      <td>307</td>\n",
       "      <td>03</td>\n",
       "      <td>5</td>\n",
       "      <td>44</td>\n",
       "      <td>34047.512693</td>\n",
       "    </tr>\n",
       "    <tr>\n",
       "      <th>3</th>\n",
       "      <td>NJ</td>\n",
       "      <td>20171104</td>\n",
       "      <td>30669.005574</td>\n",
       "      <td>11</td>\n",
       "      <td>2017-11-04</td>\n",
       "      <td>2017-11-04</td>\n",
       "      <td>1.509775e+09</td>\n",
       "      <td>2017</td>\n",
       "      <td>308</td>\n",
       "      <td>04</td>\n",
       "      <td>6</td>\n",
       "      <td>44</td>\n",
       "      <td>34047.512693</td>\n",
       "    </tr>\n",
       "    <tr>\n",
       "      <th>4</th>\n",
       "      <td>NJ</td>\n",
       "      <td>20171105</td>\n",
       "      <td>42062.320246</td>\n",
       "      <td>11</td>\n",
       "      <td>2017-11-05</td>\n",
       "      <td>2017-11-05</td>\n",
       "      <td>1.509862e+09</td>\n",
       "      <td>2017</td>\n",
       "      <td>309</td>\n",
       "      <td>05</td>\n",
       "      <td>0</td>\n",
       "      <td>45</td>\n",
       "      <td>30873.651164</td>\n",
       "    </tr>\n",
       "  </tbody>\n",
       "</table>\n",
       "</div>"
      ],
      "text/plain": [
       "  state      date         value month     datestr    dateobj     timestamp  \\\n",
       "0    NJ  20171101  46918.389135    11  2017-11-01 2017-11-01  1.509516e+09   \n",
       "1    NJ  20171102  33927.370164    11  2017-11-02 2017-11-02  1.509602e+09   \n",
       "2    NJ  20171103  41595.745103    11  2017-11-03 2017-11-03  1.509689e+09   \n",
       "3    NJ  20171104  30669.005574    11  2017-11-04 2017-11-04  1.509775e+09   \n",
       "4    NJ  20171105  42062.320246    11  2017-11-05 2017-11-05  1.509862e+09   \n",
       "\n",
       "   year  DOY DOM DOW Week    weekly_avg  \n",
       "0  2017  305  01   3   44  34047.512693  \n",
       "1  2017  306  02   4   44  34047.512693  \n",
       "2  2017  307  03   5   44  34047.512693  \n",
       "3  2017  308  04   6   44  34047.512693  \n",
       "4  2017  309  05   0   45  30873.651164  "
      ]
     },
     "execution_count": 730,
     "metadata": {},
     "output_type": "execute_result"
    }
   ],
   "source": [
    "mytest.head()"
   ]
  },
  {
   "cell_type": "markdown",
   "metadata": {},
   "source": [
    "### Use weekly_avg of previous year as weekly_avg "
   ]
  },
  {
   "cell_type": "code",
   "execution_count": 748,
   "metadata": {},
   "outputs": [
    {
     "name": "stdout",
     "output_type": "stream",
     "text": [
      "use 2016 week 52:  53 NJ 2017\n",
      "2018 use week1:  00 NJ\n",
      "2018 use week1:  00 NJ\n",
      "2018 use week1:  00 NJ\n",
      "2018 use week1:  00 NJ\n",
      "2018 use week1:  00 NJ\n",
      "2018 use week1:  00 NJ\n",
      "2018 use 2017 same week:  01 NJ\n",
      "2018 use 2017 same week:  01 NJ\n",
      "2018 use 2017 same week:  01 NJ\n",
      "2018 use 2017 same week:  01 NJ\n",
      "2018 use 2017 same week:  01 NJ\n",
      "2018 use 2017 same week:  01 NJ\n",
      "2018 use 2017 same week:  01 NJ\n",
      "2018 use 2017 same week:  02 NJ\n",
      "2018 use 2017 same week:  02 NJ\n",
      "2018 use 2017 same week:  02 NJ\n",
      "2018 use 2017 same week:  02 NJ\n",
      "2018 use 2017 same week:  02 NJ\n",
      "2018 use 2017 same week:  02 NJ\n",
      "2018 use 2017 same week:  02 NJ\n",
      "2018 use 2017 same week:  03 NJ\n",
      "2018 use 2017 same week:  03 NJ\n",
      "2018 use 2017 same week:  03 NJ\n",
      "2018 use 2017 same week:  03 NJ\n",
      "use 2016 week 52:  53 NY 2017\n",
      "2018 use week1:  00 NY\n",
      "2018 use week1:  00 NY\n",
      "2018 use week1:  00 NY\n",
      "2018 use week1:  00 NY\n",
      "2018 use week1:  00 NY\n",
      "2018 use week1:  00 NY\n",
      "2018 use 2017 same week:  01 NY\n",
      "2018 use 2017 same week:  01 NY\n",
      "2018 use 2017 same week:  01 NY\n",
      "2018 use 2017 same week:  01 NY\n",
      "2018 use 2017 same week:  01 NY\n",
      "2018 use 2017 same week:  01 NY\n",
      "2018 use 2017 same week:  01 NY\n",
      "2018 use 2017 same week:  02 NY\n",
      "2018 use 2017 same week:  02 NY\n",
      "2018 use 2017 same week:  02 NY\n",
      "2018 use 2017 same week:  02 NY\n",
      "2018 use 2017 same week:  02 NY\n",
      "2018 use 2017 same week:  02 NY\n",
      "2018 use 2017 same week:  02 NY\n",
      "2018 use 2017 same week:  03 NY\n",
      "2018 use 2017 same week:  03 NY\n",
      "2018 use 2017 same week:  03 NY\n",
      "2018 use 2017 same week:  03 NY\n",
      "use 2016 week 52:  53 PA 2017\n",
      "2018 use week1:  00 PA\n",
      "2018 use week1:  00 PA\n",
      "2018 use week1:  00 PA\n",
      "2018 use week1:  00 PA\n",
      "2018 use week1:  00 PA\n",
      "2018 use week1:  00 PA\n",
      "2018 use 2017 same week:  01 PA\n",
      "2018 use 2017 same week:  01 PA\n",
      "2018 use 2017 same week:  01 PA\n",
      "2018 use 2017 same week:  01 PA\n",
      "2018 use 2017 same week:  01 PA\n",
      "2018 use 2017 same week:  01 PA\n",
      "2018 use 2017 same week:  01 PA\n",
      "2018 use 2017 same week:  02 PA\n",
      "2018 use 2017 same week:  02 PA\n",
      "2018 use 2017 same week:  02 PA\n",
      "2018 use 2017 same week:  02 PA\n",
      "2018 use 2017 same week:  02 PA\n",
      "2018 use 2017 same week:  02 PA\n",
      "2018 use 2017 same week:  02 PA\n",
      "2018 use 2017 same week:  03 PA\n",
      "2018 use 2017 same week:  03 PA\n",
      "2018 use 2017 same week:  03 PA\n",
      "2018 use 2017 same week:  03 PA\n"
     ]
    }
   ],
   "source": [
    "for i in range(0, 255):\n",
    "    week_num = mytest.Week[i]\n",
    "    my_state = mytest.state[i]\n",
    "    my_year = mytest.year[i]\n",
    "    if int(week_num) <= 52 and int(my_year) == 2017:\n",
    "        mytest.weekly_avg[i] = mydata[(mydata.year == '2016') & (mydata.Week == week_num) & (mydata.state == my_state)]['weekly_avg'].values[0]\n",
    "    elif int(week_num) <= 52 and int(week_num) > 0 and int(my_year) == 2018:\n",
    "        print('2018 use 2017 same week: ', week_num, my_state)\n",
    "        mytest.weekly_avg[i] = mydata[(mydata.year == '2017') & (mydata.Week == week_num) & (mydata.state == my_state)]['weekly_avg'].values[0]\n",
    "    elif int(week_num) <= 52 and int(week_num) == 0 and int(my_year) == 2018:\n",
    "        print('2018 use week1: ', week_num, my_state)\n",
    "        mytest.weekly_avg[i] = mydata[(mydata.year == '2017') & (mydata.Week == '01') & (mydata.state == my_state)]['weekly_avg'].values[0]\n",
    "    else:\n",
    "        print('use 2016 week 52: ',week_num, my_state, my_year)\n",
    "        mytest.weekly_avg[i] = mydata[(mydata.year == '2016') & (mydata.Week == '52') & (mydata.state == my_state)]['weekly_avg'].values[0]"
   ]
  },
  {
   "cell_type": "code",
   "execution_count": 741,
   "metadata": {},
   "outputs": [
    {
     "name": "stdout",
     "output_type": "stream",
     "text": [
      "Checking whether there is an H2O instance running at http://localhost:54321. connected.\n"
     ]
    },
    {
     "data": {
      "text/html": [
       "<div style=\"overflow:auto\"><table style=\"width:50%\"><tr><td>H2O cluster uptime:</td>\n",
       "<td>1 day 11 hours 40 mins</td></tr>\n",
       "<tr><td>H2O cluster timezone:</td>\n",
       "<td>America/Denver</td></tr>\n",
       "<tr><td>H2O data parsing timezone:</td>\n",
       "<td>UTC</td></tr>\n",
       "<tr><td>H2O cluster version:</td>\n",
       "<td>3.20.0.5</td></tr>\n",
       "<tr><td>H2O cluster version age:</td>\n",
       "<td>3 days </td></tr>\n",
       "<tr><td>H2O cluster name:</td>\n",
       "<td>H2O_from_python_xiguo_bjroes</td></tr>\n",
       "<tr><td>H2O cluster total nodes:</td>\n",
       "<td>1</td></tr>\n",
       "<tr><td>H2O cluster free memory:</td>\n",
       "<td>590 Mb</td></tr>\n",
       "<tr><td>H2O cluster total cores:</td>\n",
       "<td>8</td></tr>\n",
       "<tr><td>H2O cluster allowed cores:</td>\n",
       "<td>8</td></tr>\n",
       "<tr><td>H2O cluster status:</td>\n",
       "<td>locked, healthy</td></tr>\n",
       "<tr><td>H2O connection url:</td>\n",
       "<td>http://localhost:54321</td></tr>\n",
       "<tr><td>H2O connection proxy:</td>\n",
       "<td>None</td></tr>\n",
       "<tr><td>H2O internal security:</td>\n",
       "<td>False</td></tr>\n",
       "<tr><td>H2O API Extensions:</td>\n",
       "<td>XGBoost, Algos, AutoML, Core V3, Core V4</td></tr>\n",
       "<tr><td>Python version:</td>\n",
       "<td>3.6.5 final</td></tr></table></div>"
      ],
      "text/plain": [
       "--------------------------  ----------------------------------------\n",
       "H2O cluster uptime:         1 day 11 hours 40 mins\n",
       "H2O cluster timezone:       America/Denver\n",
       "H2O data parsing timezone:  UTC\n",
       "H2O cluster version:        3.20.0.5\n",
       "H2O cluster version age:    3 days\n",
       "H2O cluster name:           H2O_from_python_xiguo_bjroes\n",
       "H2O cluster total nodes:    1\n",
       "H2O cluster free memory:    590 Mb\n",
       "H2O cluster total cores:    8\n",
       "H2O cluster allowed cores:  8\n",
       "H2O cluster status:         locked, healthy\n",
       "H2O connection url:         http://localhost:54321\n",
       "H2O connection proxy:\n",
       "H2O internal security:      False\n",
       "H2O API Extensions:         XGBoost, Algos, AutoML, Core V3, Core V4\n",
       "Python version:             3.6.5 final\n",
       "--------------------------  ----------------------------------------"
      ]
     },
     "metadata": {},
     "output_type": "display_data"
    },
    {
     "name": "stderr",
     "output_type": "stream",
     "text": [
      "/anaconda3/lib/python3.6/site-packages/h2o/utils/shared_utils.py:177: FutureWarning: Method .as_matrix will be removed in a future version. Use .values instead.\n",
      "  data = _handle_python_lists(python_obj.as_matrix().tolist(), -1)[1]\n"
     ]
    },
    {
     "name": "stdout",
     "output_type": "stream",
     "text": [
      "Parse progress: |█████████████████████████████████████████████████████████| 100%\n",
      "Parse progress: |█████████████████████████████████████████████████████████| 100%\n",
      "Parse progress: |█████████████████████████████████████████████████████████| 100%\n"
     ]
    }
   ],
   "source": [
    "   \n",
    "h2o.init() \n",
    "    \n",
    "mytrainhdf = h2o.H2OFrame(mytrain)\n",
    "mycvhdf = h2o.H2OFrame(mycv)\n",
    "mytesthdf = h2o.H2OFrame(mytest)"
   ]
  },
  {
   "cell_type": "code",
   "execution_count": 742,
   "metadata": {},
   "outputs": [
    {
     "name": "stdout",
     "output_type": "stream",
     "text": [
      "AutoML progress: |████████████████████████████████████████████████████████| 100%\n"
     ]
    },
    {
     "data": {
      "text/html": [
       "<table>\n",
       "<thead>\n",
       "<tr><th>model_id                                 </th><th style=\"text-align: right;\">  mean_residual_deviance</th><th style=\"text-align: right;\">    rmse</th><th style=\"text-align: right;\">        mse</th><th style=\"text-align: right;\">    mae</th><th style=\"text-align: right;\">   rmsle</th></tr>\n",
       "</thead>\n",
       "<tbody>\n",
       "<tr><td>GBM_grid_0_AutoML_20180812_202822_model_4</td><td style=\"text-align: right;\">             8.4912e+07 </td><td style=\"text-align: right;\"> 9214.77</td><td style=\"text-align: right;\">8.4912e+07 </td><td style=\"text-align: right;\">7168.01</td><td style=\"text-align: right;\">0.240027</td></tr>\n",
       "<tr><td>GBM_grid_0_AutoML_20180812_202822_model_1</td><td style=\"text-align: right;\">             8.72064e+07</td><td style=\"text-align: right;\"> 9338.44</td><td style=\"text-align: right;\">8.72064e+07</td><td style=\"text-align: right;\">7240.1 </td><td style=\"text-align: right;\">0.239435</td></tr>\n",
       "<tr><td>GBM_grid_0_AutoML_20180812_202822_model_2</td><td style=\"text-align: right;\">             9.14371e+07</td><td style=\"text-align: right;\"> 9562.28</td><td style=\"text-align: right;\">9.14371e+07</td><td style=\"text-align: right;\">7410.27</td><td style=\"text-align: right;\">0.248181</td></tr>\n",
       "<tr><td>GBM_grid_0_AutoML_20180812_202822_model_0</td><td style=\"text-align: right;\">             9.30689e+07</td><td style=\"text-align: right;\"> 9647.22</td><td style=\"text-align: right;\">9.30689e+07</td><td style=\"text-align: right;\">7368.01</td><td style=\"text-align: right;\">0.242193</td></tr>\n",
       "<tr><td>GBM_grid_0_AutoML_20180812_202822_model_3</td><td style=\"text-align: right;\">             9.61558e+07</td><td style=\"text-align: right;\"> 9805.91</td><td style=\"text-align: right;\">9.61558e+07</td><td style=\"text-align: right;\">7484.08</td><td style=\"text-align: right;\">0.245399</td></tr>\n",
       "<tr><td>DRF_0_AutoML_20180812_202822             </td><td style=\"text-align: right;\">             1.00637e+08</td><td style=\"text-align: right;\">10031.8 </td><td style=\"text-align: right;\">1.00637e+08</td><td style=\"text-align: right;\">7712.17</td><td style=\"text-align: right;\">0.256934</td></tr>\n",
       "<tr><td>XRT_0_AutoML_20180812_202822             </td><td style=\"text-align: right;\">             1.06261e+08</td><td style=\"text-align: right;\">10308.3 </td><td style=\"text-align: right;\">1.06261e+08</td><td style=\"text-align: right;\">8026.2 </td><td style=\"text-align: right;\">0.259931</td></tr>\n",
       "<tr><td>GBM_grid_0_AutoML_20180812_202822_model_6</td><td style=\"text-align: right;\">             1.06475e+08</td><td style=\"text-align: right;\">10318.7 </td><td style=\"text-align: right;\">1.06475e+08</td><td style=\"text-align: right;\">7974.48</td><td style=\"text-align: right;\">0.261226</td></tr>\n",
       "<tr><td>GBM_grid_0_AutoML_20180812_202822_model_5</td><td style=\"text-align: right;\">             1.32989e+08</td><td style=\"text-align: right;\">11532.1 </td><td style=\"text-align: right;\">1.32989e+08</td><td style=\"text-align: right;\">8977.47</td><td style=\"text-align: right;\">0.290967</td></tr>\n",
       "<tr><td>DeepLearning_0_AutoML_20180812_202822    </td><td style=\"text-align: right;\">             1.465e+08  </td><td style=\"text-align: right;\">12103.7 </td><td style=\"text-align: right;\">1.465e+08  </td><td style=\"text-align: right;\">9228.87</td><td style=\"text-align: right;\">0.298824</td></tr>\n",
       "</tbody>\n",
       "</table>"
      ]
     },
     "metadata": {},
     "output_type": "display_data"
    },
    {
     "data": {
      "text/plain": []
     },
     "execution_count": 742,
     "metadata": {},
     "output_type": "execute_result"
    }
   ],
   "source": [
    "x = mytrainhdf.columns\n",
    "y = \"value\"\n",
    "x.remove(y)\n",
    "\n",
    "aml = H2OAutoML(max_runtime_secs = 30)\n",
    "aml.train(x = x, y = y,\n",
    "          training_frame = mytrainhdf, validation_frame = mycvhdf, leaderboard_frame = mycvhdf)\n",
    "\n",
    "# View the AutoML Leaderboard\n",
    "lb = aml.leaderboard\n",
    "lb"
   ]
  },
  {
   "cell_type": "code",
   "execution_count": 743,
   "metadata": {},
   "outputs": [
    {
     "name": "stdout",
     "output_type": "stream",
     "text": [
      "gbm prediction progress: |████████████████████████████████████████████████| 100%\n"
     ]
    }
   ],
   "source": [
    "mypred = aml.leader.predict(mytesthdf)\n",
    "mypredpd = mypred.as_data_frame()\n",
    "mypredpd = mypredpd.reset_index()\n",
    "mymerge = pd.concat([mytest, mypredpd], axis = 1)"
   ]
  },
  {
   "cell_type": "code",
   "execution_count": 744,
   "metadata": {},
   "outputs": [
    {
     "data": {
      "image/png": "[encoded data removed]",
      "text/plain": [
       "<Figure size 1080x360 with 1 Axes>"
      ]
     },
     "metadata": {},
     "output_type": "display_data"
    },
    {
     "data": {
      "image/png": "[encoded data removed]",
      "text/plain": [
       "<Figure size 1080x360 with 1 Axes>"
      ]
     },
     "metadata": {},
     "output_type": "display_data"
    },
    {
     "data": {
      "image/png": "[encoded data removed]",
      "text/plain": [
       "<Figure size 1080x360 with 1 Axes>"
      ]
     },
     "metadata": {},
     "output_type": "display_data"
    }
   ],
   "source": [
    "plt.rcParams['figure.figsize'] = (15, 5)\n",
    "formatter = DateFormatter('%m/%d/%Y')\n",
    "\n",
    "for state in mymerge.state.unique():\n",
    "    mysub = mymerge[mymerge.state == state]\n",
    "    mysub['datestr'] = [str(i) for i in mysub.date]\n",
    "    mysub['num'] = mdates.datestr2num(mysub.datestr)\n",
    "    fig, ax = plt.subplots()\n",
    "    plt.plot_date(mysub.num, mysub.value, ls = '--')\n",
    "    plt.plot_date(mysub.num, mysub.predict, ls = '-')\n",
    "    #ax.xaxis.set_major_locator(loc)\n",
    "    ax.xaxis.set_major_formatter(formatter)\n",
    "    ax.xaxis.set_tick_params(rotation=30, labelsize=10)\n",
    "    plt.legend()\n",
    "    plt.title(state)"
   ]
  },
  {
   "cell_type": "code",
   "execution_count": 749,
   "metadata": {},
   "outputs": [
    {
     "data": {
      "text/plain": [
       "(0.7468537028710547, 218170712.67592457)"
      ]
     },
     "execution_count": 749,
     "metadata": {},
     "output_type": "execute_result"
    }
   ],
   "source": [
    "r2_score(mymerge.value, mymerge.predict), mean_squared_error(mymerge.value, mymerge.predict)"
   ]
  },
  {
   "cell_type": "code",
   "execution_count": 832,
   "metadata": {},
   "outputs": [
    {
     "name": "stdout",
     "output_type": "stream",
     "text": [
      "\n",
      "ModelMetricsRegression: gbm\n",
      "** Reported on train data. **\n",
      "\n",
      "MSE: 101956057.63884553\n",
      "RMSE: 10097.32923296282\n",
      "MAE: 7366.651233336892\n",
      "RMSLE: 0.242712810531222\n",
      "Mean Residual Deviance: 101956057.63884553\n"
     ]
    },
    {
     "data": {
      "text/plain": []
     },
     "execution_count": 832,
     "metadata": {},
     "output_type": "execute_result"
    }
   ],
   "source": [
    "aml.leader.model_performance()"
   ]
  },
  {
   "cell_type": "markdown",
   "metadata": {},
   "source": [
    "### Generate prediction"
   ]
  },
  {
   "cell_type": "code",
   "execution_count": 750,
   "metadata": {},
   "outputs": [],
   "source": [
    "### Dummy dataset\n",
    "pd.options.mode.chained_assignment = None "
   ]
  },
  {
   "cell_type": "code",
   "execution_count": 751,
   "metadata": {},
   "outputs": [],
   "source": [
    "mynew_set = mytest[mytest.timestamp > 1515049200.0]\n",
    "mynew_time = mytest[mytest.timestamp > 1515049200.0]['timestamp'] + 60*60*24*20\n",
    "mynew_time = mynew_time.values"
   ]
  },
  {
   "cell_type": "code",
   "execution_count": 752,
   "metadata": {},
   "outputs": [
    {
     "data": {
      "text/plain": [
       "PA    20\n",
       "NJ    20\n",
       "NY    20\n",
       "Name: state, dtype: int64"
      ]
     },
     "execution_count": 752,
     "metadata": {},
     "output_type": "execute_result"
    }
   ],
   "source": [
    "mynew_set.state.value_counts()"
   ]
  },
  {
   "cell_type": "code",
   "execution_count": 753,
   "metadata": {},
   "outputs": [],
   "source": [
    "mynew_set['timestamp'] = mynew_time"
   ]
  },
  {
   "cell_type": "code",
   "execution_count": 754,
   "metadata": {},
   "outputs": [
    {
     "data": {
      "text/html": [
       "<div>\n",
       "<style scoped>\n",
       "    .dataframe tbody tr th:only-of-type {\n",
       "        vertical-align: middle;\n",
       "    }\n",
       "\n",
       "    .dataframe tbody tr th {\n",
       "        vertical-align: top;\n",
       "    }\n",
       "\n",
       "    .dataframe thead th {\n",
       "        text-align: right;\n",
       "    }\n",
       "</style>\n",
       "<table border=\"1\" class=\"dataframe\">\n",
       "  <thead>\n",
       "    <tr style=\"text-align: right;\">\n",
       "      <th></th>\n",
       "      <th>state</th>\n",
       "      <th>date</th>\n",
       "      <th>value</th>\n",
       "      <th>month</th>\n",
       "      <th>datestr</th>\n",
       "      <th>dateobj</th>\n",
       "      <th>timestamp</th>\n",
       "      <th>year</th>\n",
       "      <th>DOY</th>\n",
       "      <th>DOM</th>\n",
       "      <th>DOW</th>\n",
       "      <th>Week</th>\n",
       "      <th>weekly_avg</th>\n",
       "    </tr>\n",
       "  </thead>\n",
       "  <tbody>\n",
       "    <tr>\n",
       "      <th>65</th>\n",
       "      <td>NJ</td>\n",
       "      <td>20180105</td>\n",
       "      <td>48980.110242</td>\n",
       "      <td>01</td>\n",
       "      <td>2018-01-05</td>\n",
       "      <td>2018-01-05</td>\n",
       "      <td>1.516864e+09</td>\n",
       "      <td>2018</td>\n",
       "      <td>005</td>\n",
       "      <td>05</td>\n",
       "      <td>5</td>\n",
       "      <td>00</td>\n",
       "      <td>54600.508337</td>\n",
       "    </tr>\n",
       "    <tr>\n",
       "      <th>66</th>\n",
       "      <td>NJ</td>\n",
       "      <td>20180106</td>\n",
       "      <td>42271.709522</td>\n",
       "      <td>01</td>\n",
       "      <td>2018-01-06</td>\n",
       "      <td>2018-01-06</td>\n",
       "      <td>1.516950e+09</td>\n",
       "      <td>2018</td>\n",
       "      <td>006</td>\n",
       "      <td>06</td>\n",
       "      <td>6</td>\n",
       "      <td>00</td>\n",
       "      <td>54600.508337</td>\n",
       "    </tr>\n",
       "    <tr>\n",
       "      <th>67</th>\n",
       "      <td>NJ</td>\n",
       "      <td>20180107</td>\n",
       "      <td>45361.771549</td>\n",
       "      <td>01</td>\n",
       "      <td>2018-01-07</td>\n",
       "      <td>2018-01-07</td>\n",
       "      <td>1.517036e+09</td>\n",
       "      <td>2018</td>\n",
       "      <td>007</td>\n",
       "      <td>07</td>\n",
       "      <td>0</td>\n",
       "      <td>01</td>\n",
       "      <td>54600.508337</td>\n",
       "    </tr>\n",
       "    <tr>\n",
       "      <th>68</th>\n",
       "      <td>NJ</td>\n",
       "      <td>20180108</td>\n",
       "      <td>51420.319156</td>\n",
       "      <td>01</td>\n",
       "      <td>2018-01-08</td>\n",
       "      <td>2018-01-08</td>\n",
       "      <td>1.517123e+09</td>\n",
       "      <td>2018</td>\n",
       "      <td>008</td>\n",
       "      <td>08</td>\n",
       "      <td>1</td>\n",
       "      <td>01</td>\n",
       "      <td>54600.508337</td>\n",
       "    </tr>\n",
       "    <tr>\n",
       "      <th>69</th>\n",
       "      <td>NJ</td>\n",
       "      <td>20180109</td>\n",
       "      <td>47762.834157</td>\n",
       "      <td>01</td>\n",
       "      <td>2018-01-09</td>\n",
       "      <td>2018-01-09</td>\n",
       "      <td>1.517209e+09</td>\n",
       "      <td>2018</td>\n",
       "      <td>009</td>\n",
       "      <td>09</td>\n",
       "      <td>2</td>\n",
       "      <td>01</td>\n",
       "      <td>54600.508337</td>\n",
       "    </tr>\n",
       "  </tbody>\n",
       "</table>\n",
       "</div>"
      ],
      "text/plain": [
       "   state      date         value month     datestr    dateobj     timestamp  \\\n",
       "65    NJ  20180105  48980.110242    01  2018-01-05 2018-01-05  1.516864e+09   \n",
       "66    NJ  20180106  42271.709522    01  2018-01-06 2018-01-06  1.516950e+09   \n",
       "67    NJ  20180107  45361.771549    01  2018-01-07 2018-01-07  1.517036e+09   \n",
       "68    NJ  20180108  51420.319156    01  2018-01-08 2018-01-08  1.517123e+09   \n",
       "69    NJ  20180109  47762.834157    01  2018-01-09 2018-01-09  1.517209e+09   \n",
       "\n",
       "    year  DOY DOM DOW Week    weekly_avg  \n",
       "65  2018  005  05   5   00  54600.508337  \n",
       "66  2018  006  06   6   00  54600.508337  \n",
       "67  2018  007  07   0   01  54600.508337  \n",
       "68  2018  008  08   1   01  54600.508337  \n",
       "69  2018  009  09   2   01  54600.508337  "
      ]
     },
     "execution_count": 754,
     "metadata": {},
     "output_type": "execute_result"
    }
   ],
   "source": [
    "mynew_set.head()"
   ]
  },
  {
   "cell_type": "code",
   "execution_count": 755,
   "metadata": {},
   "outputs": [],
   "source": [
    "mynew_set['date'] = [datetime.utcfromtimestamp(i).strftime('%Y%m%d') for i in mynew_time]"
   ]
  },
  {
   "cell_type": "code",
   "execution_count": 756,
   "metadata": {},
   "outputs": [],
   "source": [
    "mynew_set['month'] = [str(i)[4:6] for i in mynew_set.date]\n",
    "mynew_set['datestr'] = [(str(i)[:4]+'-' + str(i)[4:6] + '-' + str(i)[6:]) for i in mynew_set.date]\n",
    "mynew_set['dateobj'] = [datetime.strptime(i, \"%Y-%m-%d\") for i in mynew_set.datestr]\n",
    "mynew_set['DOY'] = [time.strftime('%j', time.gmtime(i)) for i in mynew_set.timestamp]\n",
    "mynew_set['DOM'] = [time.strftime('%d', time.gmtime(i)) for i in mynew_set.timestamp]\n",
    "mynew_set['DOW'] = [time.strftime('%w', time.gmtime(i)) for i in mynew_set.timestamp]\n",
    "mynew_set['Week'] = [time.strftime('%U', time.gmtime(i)) for i in mynew_set.timestamp]\n",
    "mynew_set['year'] = [str(i)[:4] for i in mynew_set.datestr]\n",
    "#mynew_set['timestamp'] = [time.mktime(i.timetuple()) for i in mynew_set.dateobj]"
   ]
  },
  {
   "cell_type": "code",
   "execution_count": 757,
   "metadata": {},
   "outputs": [
    {
     "data": {
      "text/html": [
       "<div>\n",
       "<style scoped>\n",
       "    .dataframe tbody tr th:only-of-type {\n",
       "        vertical-align: middle;\n",
       "    }\n",
       "\n",
       "    .dataframe tbody tr th {\n",
       "        vertical-align: top;\n",
       "    }\n",
       "\n",
       "    .dataframe thead th {\n",
       "        text-align: right;\n",
       "    }\n",
       "</style>\n",
       "<table border=\"1\" class=\"dataframe\">\n",
       "  <thead>\n",
       "    <tr style=\"text-align: right;\">\n",
       "      <th></th>\n",
       "      <th>state</th>\n",
       "      <th>date</th>\n",
       "      <th>value</th>\n",
       "      <th>month</th>\n",
       "      <th>datestr</th>\n",
       "      <th>dateobj</th>\n",
       "      <th>timestamp</th>\n",
       "      <th>year</th>\n",
       "      <th>DOY</th>\n",
       "      <th>DOM</th>\n",
       "      <th>DOW</th>\n",
       "      <th>Week</th>\n",
       "      <th>weekly_avg</th>\n",
       "    </tr>\n",
       "  </thead>\n",
       "  <tbody>\n",
       "    <tr>\n",
       "      <th>65</th>\n",
       "      <td>NJ</td>\n",
       "      <td>20180125</td>\n",
       "      <td>48980.110242</td>\n",
       "      <td>01</td>\n",
       "      <td>2018-01-25</td>\n",
       "      <td>2018-01-25</td>\n",
       "      <td>1.516864e+09</td>\n",
       "      <td>2018</td>\n",
       "      <td>025</td>\n",
       "      <td>25</td>\n",
       "      <td>4</td>\n",
       "      <td>03</td>\n",
       "      <td>54600.508337</td>\n",
       "    </tr>\n",
       "    <tr>\n",
       "      <th>66</th>\n",
       "      <td>NJ</td>\n",
       "      <td>20180126</td>\n",
       "      <td>42271.709522</td>\n",
       "      <td>01</td>\n",
       "      <td>2018-01-26</td>\n",
       "      <td>2018-01-26</td>\n",
       "      <td>1.516950e+09</td>\n",
       "      <td>2018</td>\n",
       "      <td>026</td>\n",
       "      <td>26</td>\n",
       "      <td>5</td>\n",
       "      <td>03</td>\n",
       "      <td>54600.508337</td>\n",
       "    </tr>\n",
       "    <tr>\n",
       "      <th>67</th>\n",
       "      <td>NJ</td>\n",
       "      <td>20180127</td>\n",
       "      <td>45361.771549</td>\n",
       "      <td>01</td>\n",
       "      <td>2018-01-27</td>\n",
       "      <td>2018-01-27</td>\n",
       "      <td>1.517036e+09</td>\n",
       "      <td>2018</td>\n",
       "      <td>027</td>\n",
       "      <td>27</td>\n",
       "      <td>6</td>\n",
       "      <td>03</td>\n",
       "      <td>54600.508337</td>\n",
       "    </tr>\n",
       "    <tr>\n",
       "      <th>68</th>\n",
       "      <td>NJ</td>\n",
       "      <td>20180128</td>\n",
       "      <td>51420.319156</td>\n",
       "      <td>01</td>\n",
       "      <td>2018-01-28</td>\n",
       "      <td>2018-01-28</td>\n",
       "      <td>1.517123e+09</td>\n",
       "      <td>2018</td>\n",
       "      <td>028</td>\n",
       "      <td>28</td>\n",
       "      <td>0</td>\n",
       "      <td>04</td>\n",
       "      <td>54600.508337</td>\n",
       "    </tr>\n",
       "    <tr>\n",
       "      <th>69</th>\n",
       "      <td>NJ</td>\n",
       "      <td>20180129</td>\n",
       "      <td>47762.834157</td>\n",
       "      <td>01</td>\n",
       "      <td>2018-01-29</td>\n",
       "      <td>2018-01-29</td>\n",
       "      <td>1.517209e+09</td>\n",
       "      <td>2018</td>\n",
       "      <td>029</td>\n",
       "      <td>29</td>\n",
       "      <td>1</td>\n",
       "      <td>04</td>\n",
       "      <td>54600.508337</td>\n",
       "    </tr>\n",
       "  </tbody>\n",
       "</table>\n",
       "</div>"
      ],
      "text/plain": [
       "   state      date         value month     datestr    dateobj     timestamp  \\\n",
       "65    NJ  20180125  48980.110242    01  2018-01-25 2018-01-25  1.516864e+09   \n",
       "66    NJ  20180126  42271.709522    01  2018-01-26 2018-01-26  1.516950e+09   \n",
       "67    NJ  20180127  45361.771549    01  2018-01-27 2018-01-27  1.517036e+09   \n",
       "68    NJ  20180128  51420.319156    01  2018-01-28 2018-01-28  1.517123e+09   \n",
       "69    NJ  20180129  47762.834157    01  2018-01-29 2018-01-29  1.517209e+09   \n",
       "\n",
       "    year  DOY DOM DOW Week    weekly_avg  \n",
       "65  2018  025  25   4   03  54600.508337  \n",
       "66  2018  026  26   5   03  54600.508337  \n",
       "67  2018  027  27   6   03  54600.508337  \n",
       "68  2018  028  28   0   04  54600.508337  \n",
       "69  2018  029  29   1   04  54600.508337  "
      ]
     },
     "execution_count": 757,
     "metadata": {},
     "output_type": "execute_result"
    }
   ],
   "source": [
    "mynew_set.head()"
   ]
  },
  {
   "cell_type": "code",
   "execution_count": 802,
   "metadata": {},
   "outputs": [
    {
     "data": {
      "text/plain": [
       "2018    60\n",
       "Name: year, dtype: int64"
      ]
     },
     "execution_count": 802,
     "metadata": {},
     "output_type": "execute_result"
    }
   ],
   "source": [
    "mynew_set.year.value_counts()"
   ]
  },
  {
   "cell_type": "code",
   "execution_count": 801,
   "metadata": {},
   "outputs": [
    {
     "data": {
      "text/plain": [
       "02    39\n",
       "01    21\n",
       "Name: month, dtype: int64"
      ]
     },
     "execution_count": 801,
     "metadata": {},
     "output_type": "execute_result"
    }
   ],
   "source": [
    "mynew_set.month.value_counts()"
   ]
  },
  {
   "cell_type": "code",
   "execution_count": 796,
   "metadata": {},
   "outputs": [
    {
     "data": {
      "text/plain": [
       "(60, 13)"
      ]
     },
     "execution_count": 796,
     "metadata": {},
     "output_type": "execute_result"
    }
   ],
   "source": [
    "mynew_set.shape"
   ]
  },
  {
   "cell_type": "markdown",
   "metadata": {},
   "source": [
    "### Use weekly_avg of previous year as weekly_avg and monthly_avg"
   ]
  },
  {
   "cell_type": "code",
   "execution_count": 806,
   "metadata": {},
   "outputs": [],
   "source": [
    "myjoin = mydata[(mydata.year == '2017') & (mydata.month.isin(['02', '01']))][['Week', 'month', 'weekly_avg', 'state']]"
   ]
  },
  {
   "cell_type": "code",
   "execution_count": 807,
   "metadata": {},
   "outputs": [
    {
     "data": {
      "text/plain": [
       "(30, 4)"
      ]
     },
     "execution_count": 807,
     "metadata": {},
     "output_type": "execute_result"
    }
   ],
   "source": [
    "myjoin = myjoin.drop_duplicates()\n",
    "myjoin.shape"
   ]
  },
  {
   "cell_type": "code",
   "execution_count": 808,
   "metadata": {},
   "outputs": [],
   "source": [
    "mynew_join = mynew_set.merge(myjoin, on = [ 'Week', 'month', 'state'], how = 'left')"
   ]
  },
  {
   "cell_type": "code",
   "execution_count": 809,
   "metadata": {},
   "outputs": [
    {
     "data": {
      "text/html": [
       "<div>\n",
       "<style scoped>\n",
       "    .dataframe tbody tr th:only-of-type {\n",
       "        vertical-align: middle;\n",
       "    }\n",
       "\n",
       "    .dataframe tbody tr th {\n",
       "        vertical-align: top;\n",
       "    }\n",
       "\n",
       "    .dataframe thead th {\n",
       "        text-align: right;\n",
       "    }\n",
       "</style>\n",
       "<table border=\"1\" class=\"dataframe\">\n",
       "  <thead>\n",
       "    <tr style=\"text-align: right;\">\n",
       "      <th></th>\n",
       "      <th>state</th>\n",
       "      <th>date</th>\n",
       "      <th>value</th>\n",
       "      <th>month</th>\n",
       "      <th>datestr</th>\n",
       "      <th>dateobj</th>\n",
       "      <th>timestamp</th>\n",
       "      <th>year</th>\n",
       "      <th>DOY</th>\n",
       "      <th>DOM</th>\n",
       "      <th>DOW</th>\n",
       "      <th>Week</th>\n",
       "      <th>weekly_avg_x</th>\n",
       "      <th>weekly_avg_y</th>\n",
       "    </tr>\n",
       "  </thead>\n",
       "  <tbody>\n",
       "    <tr>\n",
       "      <th>0</th>\n",
       "      <td>NJ</td>\n",
       "      <td>20180125</td>\n",
       "      <td>48980.110242</td>\n",
       "      <td>01</td>\n",
       "      <td>2018-01-25</td>\n",
       "      <td>2018-01-25</td>\n",
       "      <td>1.516864e+09</td>\n",
       "      <td>2018</td>\n",
       "      <td>025</td>\n",
       "      <td>25</td>\n",
       "      <td>4</td>\n",
       "      <td>03</td>\n",
       "      <td>54600.508337</td>\n",
       "      <td>67048.995579</td>\n",
       "    </tr>\n",
       "    <tr>\n",
       "      <th>1</th>\n",
       "      <td>NJ</td>\n",
       "      <td>20180126</td>\n",
       "      <td>42271.709522</td>\n",
       "      <td>01</td>\n",
       "      <td>2018-01-26</td>\n",
       "      <td>2018-01-26</td>\n",
       "      <td>1.516950e+09</td>\n",
       "      <td>2018</td>\n",
       "      <td>026</td>\n",
       "      <td>26</td>\n",
       "      <td>5</td>\n",
       "      <td>03</td>\n",
       "      <td>54600.508337</td>\n",
       "      <td>67048.995579</td>\n",
       "    </tr>\n",
       "    <tr>\n",
       "      <th>2</th>\n",
       "      <td>NJ</td>\n",
       "      <td>20180127</td>\n",
       "      <td>45361.771549</td>\n",
       "      <td>01</td>\n",
       "      <td>2018-01-27</td>\n",
       "      <td>2018-01-27</td>\n",
       "      <td>1.517036e+09</td>\n",
       "      <td>2018</td>\n",
       "      <td>027</td>\n",
       "      <td>27</td>\n",
       "      <td>6</td>\n",
       "      <td>03</td>\n",
       "      <td>54600.508337</td>\n",
       "      <td>67048.995579</td>\n",
       "    </tr>\n",
       "    <tr>\n",
       "      <th>3</th>\n",
       "      <td>NJ</td>\n",
       "      <td>20180128</td>\n",
       "      <td>51420.319156</td>\n",
       "      <td>01</td>\n",
       "      <td>2018-01-28</td>\n",
       "      <td>2018-01-28</td>\n",
       "      <td>1.517123e+09</td>\n",
       "      <td>2018</td>\n",
       "      <td>028</td>\n",
       "      <td>28</td>\n",
       "      <td>0</td>\n",
       "      <td>04</td>\n",
       "      <td>54600.508337</td>\n",
       "      <td>73941.504183</td>\n",
       "    </tr>\n",
       "    <tr>\n",
       "      <th>4</th>\n",
       "      <td>NJ</td>\n",
       "      <td>20180129</td>\n",
       "      <td>47762.834157</td>\n",
       "      <td>01</td>\n",
       "      <td>2018-01-29</td>\n",
       "      <td>2018-01-29</td>\n",
       "      <td>1.517209e+09</td>\n",
       "      <td>2018</td>\n",
       "      <td>029</td>\n",
       "      <td>29</td>\n",
       "      <td>1</td>\n",
       "      <td>04</td>\n",
       "      <td>54600.508337</td>\n",
       "      <td>73941.504183</td>\n",
       "    </tr>\n",
       "  </tbody>\n",
       "</table>\n",
       "</div>"
      ],
      "text/plain": [
       "  state      date         value month     datestr    dateobj     timestamp  \\\n",
       "0    NJ  20180125  48980.110242    01  2018-01-25 2018-01-25  1.516864e+09   \n",
       "1    NJ  20180126  42271.709522    01  2018-01-26 2018-01-26  1.516950e+09   \n",
       "2    NJ  20180127  45361.771549    01  2018-01-27 2018-01-27  1.517036e+09   \n",
       "3    NJ  20180128  51420.319156    01  2018-01-28 2018-01-28  1.517123e+09   \n",
       "4    NJ  20180129  47762.834157    01  2018-01-29 2018-01-29  1.517209e+09   \n",
       "\n",
       "   year  DOY DOM DOW Week  weekly_avg_x  weekly_avg_y  \n",
       "0  2018  025  25   4   03  54600.508337  67048.995579  \n",
       "1  2018  026  26   5   03  54600.508337  67048.995579  \n",
       "2  2018  027  27   6   03  54600.508337  67048.995579  \n",
       "3  2018  028  28   0   04  54600.508337  73941.504183  \n",
       "4  2018  029  29   1   04  54600.508337  73941.504183  "
      ]
     },
     "execution_count": 809,
     "metadata": {},
     "output_type": "execute_result"
    }
   ],
   "source": [
    "mynew_join.head()"
   ]
  },
  {
   "cell_type": "code",
   "execution_count": 810,
   "metadata": {},
   "outputs": [
    {
     "data": {
      "text/plain": [
       "((60, 14), (30, 4))"
      ]
     },
     "execution_count": 810,
     "metadata": {},
     "output_type": "execute_result"
    }
   ],
   "source": [
    "mynew_join.shape, myjoin.shape"
   ]
  },
  {
   "cell_type": "code",
   "execution_count": 812,
   "metadata": {},
   "outputs": [
    {
     "data": {
      "text/html": [
       "<div>\n",
       "<style scoped>\n",
       "    .dataframe tbody tr th:only-of-type {\n",
       "        vertical-align: middle;\n",
       "    }\n",
       "\n",
       "    .dataframe tbody tr th {\n",
       "        vertical-align: top;\n",
       "    }\n",
       "\n",
       "    .dataframe thead th {\n",
       "        text-align: right;\n",
       "    }\n",
       "</style>\n",
       "<table border=\"1\" class=\"dataframe\">\n",
       "  <thead>\n",
       "    <tr style=\"text-align: right;\">\n",
       "      <th></th>\n",
       "      <th>state</th>\n",
       "      <th>date</th>\n",
       "      <th>value</th>\n",
       "      <th>month</th>\n",
       "      <th>datestr</th>\n",
       "      <th>dateobj</th>\n",
       "      <th>timestamp</th>\n",
       "      <th>year</th>\n",
       "      <th>DOY</th>\n",
       "      <th>DOM</th>\n",
       "      <th>DOW</th>\n",
       "      <th>Week</th>\n",
       "      <th>weekly_avg_x</th>\n",
       "      <th>weekly_avg_y</th>\n",
       "    </tr>\n",
       "  </thead>\n",
       "  <tbody>\n",
       "    <tr>\n",
       "      <th>55</th>\n",
       "      <td>PA</td>\n",
       "      <td>20180209</td>\n",
       "      <td>67120.212707</td>\n",
       "      <td>02</td>\n",
       "      <td>2018-02-09</td>\n",
       "      <td>2018-02-09</td>\n",
       "      <td>1.518160e+09</td>\n",
       "      <td>2018</td>\n",
       "      <td>040</td>\n",
       "      <td>09</td>\n",
       "      <td>5</td>\n",
       "      <td>05</td>\n",
       "      <td>78306.903069</td>\n",
       "      <td>93393.197191</td>\n",
       "    </tr>\n",
       "    <tr>\n",
       "      <th>56</th>\n",
       "      <td>PA</td>\n",
       "      <td>20180210</td>\n",
       "      <td>62688.337368</td>\n",
       "      <td>02</td>\n",
       "      <td>2018-02-10</td>\n",
       "      <td>2018-02-10</td>\n",
       "      <td>1.518246e+09</td>\n",
       "      <td>2018</td>\n",
       "      <td>041</td>\n",
       "      <td>10</td>\n",
       "      <td>6</td>\n",
       "      <td>05</td>\n",
       "      <td>92211.422877</td>\n",
       "      <td>93393.197191</td>\n",
       "    </tr>\n",
       "    <tr>\n",
       "      <th>57</th>\n",
       "      <td>PA</td>\n",
       "      <td>20180211</td>\n",
       "      <td>97523.298547</td>\n",
       "      <td>02</td>\n",
       "      <td>2018-02-11</td>\n",
       "      <td>2018-02-11</td>\n",
       "      <td>1.518332e+09</td>\n",
       "      <td>2018</td>\n",
       "      <td>042</td>\n",
       "      <td>11</td>\n",
       "      <td>0</td>\n",
       "      <td>06</td>\n",
       "      <td>92211.422877</td>\n",
       "      <td>114871.061174</td>\n",
       "    </tr>\n",
       "    <tr>\n",
       "      <th>58</th>\n",
       "      <td>PA</td>\n",
       "      <td>20180212</td>\n",
       "      <td>100371.022721</td>\n",
       "      <td>02</td>\n",
       "      <td>2018-02-12</td>\n",
       "      <td>2018-02-12</td>\n",
       "      <td>1.518419e+09</td>\n",
       "      <td>2018</td>\n",
       "      <td>043</td>\n",
       "      <td>12</td>\n",
       "      <td>1</td>\n",
       "      <td>06</td>\n",
       "      <td>92211.422877</td>\n",
       "      <td>114871.061174</td>\n",
       "    </tr>\n",
       "    <tr>\n",
       "      <th>59</th>\n",
       "      <td>PA</td>\n",
       "      <td>20180213</td>\n",
       "      <td>108471.555057</td>\n",
       "      <td>02</td>\n",
       "      <td>2018-02-13</td>\n",
       "      <td>2018-02-13</td>\n",
       "      <td>1.518505e+09</td>\n",
       "      <td>2018</td>\n",
       "      <td>044</td>\n",
       "      <td>13</td>\n",
       "      <td>2</td>\n",
       "      <td>06</td>\n",
       "      <td>92211.422877</td>\n",
       "      <td>114871.061174</td>\n",
       "    </tr>\n",
       "  </tbody>\n",
       "</table>\n",
       "</div>"
      ],
      "text/plain": [
       "   state      date          value month     datestr    dateobj     timestamp  \\\n",
       "55    PA  20180209   67120.212707    02  2018-02-09 2018-02-09  1.518160e+09   \n",
       "56    PA  20180210   62688.337368    02  2018-02-10 2018-02-10  1.518246e+09   \n",
       "57    PA  20180211   97523.298547    02  2018-02-11 2018-02-11  1.518332e+09   \n",
       "58    PA  20180212  100371.022721    02  2018-02-12 2018-02-12  1.518419e+09   \n",
       "59    PA  20180213  108471.555057    02  2018-02-13 2018-02-13  1.518505e+09   \n",
       "\n",
       "    year  DOY DOM DOW Week  weekly_avg_x   weekly_avg_y  \n",
       "55  2018  040  09   5   05  78306.903069   93393.197191  \n",
       "56  2018  041  10   6   05  92211.422877   93393.197191  \n",
       "57  2018  042  11   0   06  92211.422877  114871.061174  \n",
       "58  2018  043  12   1   06  92211.422877  114871.061174  \n",
       "59  2018  044  13   2   06  92211.422877  114871.061174  "
      ]
     },
     "execution_count": 812,
     "metadata": {},
     "output_type": "execute_result"
    }
   ],
   "source": [
    "mynew_join.tail()"
   ]
  },
  {
   "cell_type": "code",
   "execution_count": 813,
   "metadata": {},
   "outputs": [],
   "source": [
    "mynew_join['weekly_avg'] = (mynew_join['weekly_avg_x'] +  mynew_join['weekly_avg_y'])/float(2)\n"
   ]
  },
  {
   "cell_type": "code",
   "execution_count": 814,
   "metadata": {},
   "outputs": [
    {
     "data": {
      "text/html": [
       "<div>\n",
       "<style scoped>\n",
       "    .dataframe tbody tr th:only-of-type {\n",
       "        vertical-align: middle;\n",
       "    }\n",
       "\n",
       "    .dataframe tbody tr th {\n",
       "        vertical-align: top;\n",
       "    }\n",
       "\n",
       "    .dataframe thead th {\n",
       "        text-align: right;\n",
       "    }\n",
       "</style>\n",
       "<table border=\"1\" class=\"dataframe\">\n",
       "  <thead>\n",
       "    <tr style=\"text-align: right;\">\n",
       "      <th></th>\n",
       "      <th>state</th>\n",
       "      <th>date</th>\n",
       "      <th>value</th>\n",
       "      <th>month</th>\n",
       "      <th>datestr</th>\n",
       "      <th>dateobj</th>\n",
       "      <th>timestamp</th>\n",
       "      <th>year</th>\n",
       "      <th>DOY</th>\n",
       "      <th>DOM</th>\n",
       "      <th>DOW</th>\n",
       "      <th>Week</th>\n",
       "      <th>weekly_avg_x</th>\n",
       "      <th>weekly_avg_y</th>\n",
       "      <th>weekly_avg</th>\n",
       "    </tr>\n",
       "  </thead>\n",
       "  <tbody>\n",
       "    <tr>\n",
       "      <th>0</th>\n",
       "      <td>NJ</td>\n",
       "      <td>20180125</td>\n",
       "      <td>48980.110242</td>\n",
       "      <td>01</td>\n",
       "      <td>2018-01-25</td>\n",
       "      <td>2018-01-25</td>\n",
       "      <td>1.516864e+09</td>\n",
       "      <td>2018</td>\n",
       "      <td>025</td>\n",
       "      <td>25</td>\n",
       "      <td>4</td>\n",
       "      <td>03</td>\n",
       "      <td>54600.508337</td>\n",
       "      <td>67048.995579</td>\n",
       "      <td>60824.751958</td>\n",
       "    </tr>\n",
       "    <tr>\n",
       "      <th>1</th>\n",
       "      <td>NJ</td>\n",
       "      <td>20180126</td>\n",
       "      <td>42271.709522</td>\n",
       "      <td>01</td>\n",
       "      <td>2018-01-26</td>\n",
       "      <td>2018-01-26</td>\n",
       "      <td>1.516950e+09</td>\n",
       "      <td>2018</td>\n",
       "      <td>026</td>\n",
       "      <td>26</td>\n",
       "      <td>5</td>\n",
       "      <td>03</td>\n",
       "      <td>54600.508337</td>\n",
       "      <td>67048.995579</td>\n",
       "      <td>60824.751958</td>\n",
       "    </tr>\n",
       "    <tr>\n",
       "      <th>2</th>\n",
       "      <td>NJ</td>\n",
       "      <td>20180127</td>\n",
       "      <td>45361.771549</td>\n",
       "      <td>01</td>\n",
       "      <td>2018-01-27</td>\n",
       "      <td>2018-01-27</td>\n",
       "      <td>1.517036e+09</td>\n",
       "      <td>2018</td>\n",
       "      <td>027</td>\n",
       "      <td>27</td>\n",
       "      <td>6</td>\n",
       "      <td>03</td>\n",
       "      <td>54600.508337</td>\n",
       "      <td>67048.995579</td>\n",
       "      <td>60824.751958</td>\n",
       "    </tr>\n",
       "    <tr>\n",
       "      <th>3</th>\n",
       "      <td>NJ</td>\n",
       "      <td>20180128</td>\n",
       "      <td>51420.319156</td>\n",
       "      <td>01</td>\n",
       "      <td>2018-01-28</td>\n",
       "      <td>2018-01-28</td>\n",
       "      <td>1.517123e+09</td>\n",
       "      <td>2018</td>\n",
       "      <td>028</td>\n",
       "      <td>28</td>\n",
       "      <td>0</td>\n",
       "      <td>04</td>\n",
       "      <td>54600.508337</td>\n",
       "      <td>73941.504183</td>\n",
       "      <td>64271.006260</td>\n",
       "    </tr>\n",
       "    <tr>\n",
       "      <th>4</th>\n",
       "      <td>NJ</td>\n",
       "      <td>20180129</td>\n",
       "      <td>47762.834157</td>\n",
       "      <td>01</td>\n",
       "      <td>2018-01-29</td>\n",
       "      <td>2018-01-29</td>\n",
       "      <td>1.517209e+09</td>\n",
       "      <td>2018</td>\n",
       "      <td>029</td>\n",
       "      <td>29</td>\n",
       "      <td>1</td>\n",
       "      <td>04</td>\n",
       "      <td>54600.508337</td>\n",
       "      <td>73941.504183</td>\n",
       "      <td>64271.006260</td>\n",
       "    </tr>\n",
       "  </tbody>\n",
       "</table>\n",
       "</div>"
      ],
      "text/plain": [
       "  state      date         value month     datestr    dateobj     timestamp  \\\n",
       "0    NJ  20180125  48980.110242    01  2018-01-25 2018-01-25  1.516864e+09   \n",
       "1    NJ  20180126  42271.709522    01  2018-01-26 2018-01-26  1.516950e+09   \n",
       "2    NJ  20180127  45361.771549    01  2018-01-27 2018-01-27  1.517036e+09   \n",
       "3    NJ  20180128  51420.319156    01  2018-01-28 2018-01-28  1.517123e+09   \n",
       "4    NJ  20180129  47762.834157    01  2018-01-29 2018-01-29  1.517209e+09   \n",
       "\n",
       "   year  DOY DOM DOW Week  weekly_avg_x  weekly_avg_y    weekly_avg  \n",
       "0  2018  025  25   4   03  54600.508337  67048.995579  60824.751958  \n",
       "1  2018  026  26   5   03  54600.508337  67048.995579  60824.751958  \n",
       "2  2018  027  27   6   03  54600.508337  67048.995579  60824.751958  \n",
       "3  2018  028  28   0   04  54600.508337  73941.504183  64271.006260  \n",
       "4  2018  029  29   1   04  54600.508337  73941.504183  64271.006260  "
      ]
     },
     "execution_count": 814,
     "metadata": {},
     "output_type": "execute_result"
    }
   ],
   "source": [
    "mynew_join.head()"
   ]
  },
  {
   "cell_type": "code",
   "execution_count": 815,
   "metadata": {},
   "outputs": [
    {
     "data": {
      "text/plain": [
       "(60, 15)"
      ]
     },
     "execution_count": 815,
     "metadata": {},
     "output_type": "execute_result"
    }
   ],
   "source": [
    "mynew_join.shape"
   ]
  },
  {
   "cell_type": "code",
   "execution_count": 816,
   "metadata": {},
   "outputs": [
    {
     "data": {
      "text/plain": [
       "(2031, 13)"
      ]
     },
     "execution_count": 816,
     "metadata": {},
     "output_type": "execute_result"
    }
   ],
   "source": [
    "mytrainhdf.shape"
   ]
  },
  {
   "cell_type": "code",
   "execution_count": 817,
   "metadata": {},
   "outputs": [
    {
     "data": {
      "text/plain": [
       "PA    20\n",
       "NJ    20\n",
       "NY    20\n",
       "Name: state, dtype: int64"
      ]
     },
     "execution_count": 817,
     "metadata": {},
     "output_type": "execute_result"
    }
   ],
   "source": [
    "mynew_test = mynew_join.iloc[:, :12] \n",
    "mynew_test.state.value_counts()"
   ]
  },
  {
   "cell_type": "code",
   "execution_count": 818,
   "metadata": {},
   "outputs": [],
   "source": [
    "mynew_test['weekly_avg'] = mynew_join['weekly_avg']\n"
   ]
  },
  {
   "cell_type": "code",
   "execution_count": 819,
   "metadata": {},
   "outputs": [
    {
     "data": {
      "text/html": [
       "<div>\n",
       "<style scoped>\n",
       "    .dataframe tbody tr th:only-of-type {\n",
       "        vertical-align: middle;\n",
       "    }\n",
       "\n",
       "    .dataframe tbody tr th {\n",
       "        vertical-align: top;\n",
       "    }\n",
       "\n",
       "    .dataframe thead th {\n",
       "        text-align: right;\n",
       "    }\n",
       "</style>\n",
       "<table border=\"1\" class=\"dataframe\">\n",
       "  <thead>\n",
       "    <tr style=\"text-align: right;\">\n",
       "      <th></th>\n",
       "      <th>state</th>\n",
       "      <th>date</th>\n",
       "      <th>value</th>\n",
       "      <th>month</th>\n",
       "      <th>datestr</th>\n",
       "      <th>dateobj</th>\n",
       "      <th>timestamp</th>\n",
       "      <th>year</th>\n",
       "      <th>DOY</th>\n",
       "      <th>DOM</th>\n",
       "      <th>DOW</th>\n",
       "      <th>Week</th>\n",
       "      <th>weekly_avg</th>\n",
       "    </tr>\n",
       "  </thead>\n",
       "  <tbody>\n",
       "    <tr>\n",
       "      <th>0</th>\n",
       "      <td>NJ</td>\n",
       "      <td>20180125</td>\n",
       "      <td>48980.110242</td>\n",
       "      <td>01</td>\n",
       "      <td>2018-01-25</td>\n",
       "      <td>2018-01-25</td>\n",
       "      <td>1.516864e+09</td>\n",
       "      <td>2018</td>\n",
       "      <td>025</td>\n",
       "      <td>25</td>\n",
       "      <td>4</td>\n",
       "      <td>03</td>\n",
       "      <td>60824.751958</td>\n",
       "    </tr>\n",
       "    <tr>\n",
       "      <th>1</th>\n",
       "      <td>NJ</td>\n",
       "      <td>20180126</td>\n",
       "      <td>42271.709522</td>\n",
       "      <td>01</td>\n",
       "      <td>2018-01-26</td>\n",
       "      <td>2018-01-26</td>\n",
       "      <td>1.516950e+09</td>\n",
       "      <td>2018</td>\n",
       "      <td>026</td>\n",
       "      <td>26</td>\n",
       "      <td>5</td>\n",
       "      <td>03</td>\n",
       "      <td>60824.751958</td>\n",
       "    </tr>\n",
       "    <tr>\n",
       "      <th>2</th>\n",
       "      <td>NJ</td>\n",
       "      <td>20180127</td>\n",
       "      <td>45361.771549</td>\n",
       "      <td>01</td>\n",
       "      <td>2018-01-27</td>\n",
       "      <td>2018-01-27</td>\n",
       "      <td>1.517036e+09</td>\n",
       "      <td>2018</td>\n",
       "      <td>027</td>\n",
       "      <td>27</td>\n",
       "      <td>6</td>\n",
       "      <td>03</td>\n",
       "      <td>60824.751958</td>\n",
       "    </tr>\n",
       "    <tr>\n",
       "      <th>3</th>\n",
       "      <td>NJ</td>\n",
       "      <td>20180128</td>\n",
       "      <td>51420.319156</td>\n",
       "      <td>01</td>\n",
       "      <td>2018-01-28</td>\n",
       "      <td>2018-01-28</td>\n",
       "      <td>1.517123e+09</td>\n",
       "      <td>2018</td>\n",
       "      <td>028</td>\n",
       "      <td>28</td>\n",
       "      <td>0</td>\n",
       "      <td>04</td>\n",
       "      <td>64271.006260</td>\n",
       "    </tr>\n",
       "    <tr>\n",
       "      <th>4</th>\n",
       "      <td>NJ</td>\n",
       "      <td>20180129</td>\n",
       "      <td>47762.834157</td>\n",
       "      <td>01</td>\n",
       "      <td>2018-01-29</td>\n",
       "      <td>2018-01-29</td>\n",
       "      <td>1.517209e+09</td>\n",
       "      <td>2018</td>\n",
       "      <td>029</td>\n",
       "      <td>29</td>\n",
       "      <td>1</td>\n",
       "      <td>04</td>\n",
       "      <td>64271.006260</td>\n",
       "    </tr>\n",
       "  </tbody>\n",
       "</table>\n",
       "</div>"
      ],
      "text/plain": [
       "  state      date         value month     datestr    dateobj     timestamp  \\\n",
       "0    NJ  20180125  48980.110242    01  2018-01-25 2018-01-25  1.516864e+09   \n",
       "1    NJ  20180126  42271.709522    01  2018-01-26 2018-01-26  1.516950e+09   \n",
       "2    NJ  20180127  45361.771549    01  2018-01-27 2018-01-27  1.517036e+09   \n",
       "3    NJ  20180128  51420.319156    01  2018-01-28 2018-01-28  1.517123e+09   \n",
       "4    NJ  20180129  47762.834157    01  2018-01-29 2018-01-29  1.517209e+09   \n",
       "\n",
       "   year  DOY DOM DOW Week    weekly_avg  \n",
       "0  2018  025  25   4   03  60824.751958  \n",
       "1  2018  026  26   5   03  60824.751958  \n",
       "2  2018  027  27   6   03  60824.751958  \n",
       "3  2018  028  28   0   04  64271.006260  \n",
       "4  2018  029  29   1   04  64271.006260  "
      ]
     },
     "execution_count": 819,
     "metadata": {},
     "output_type": "execute_result"
    }
   ],
   "source": [
    "mynew_test.head()"
   ]
  },
  {
   "cell_type": "code",
   "execution_count": 820,
   "metadata": {},
   "outputs": [],
   "source": [
    "mynew_test = mynew_test.drop_duplicates()"
   ]
  },
  {
   "cell_type": "code",
   "execution_count": 821,
   "metadata": {},
   "outputs": [
    {
     "data": {
      "text/plain": [
       "1    9\n",
       "6    9\n",
       "4    9\n",
       "2    9\n",
       "5    9\n",
       "0    9\n",
       "3    6\n",
       "Name: DOW, dtype: int64"
      ]
     },
     "execution_count": 821,
     "metadata": {},
     "output_type": "execute_result"
    }
   ],
   "source": [
    "mynew_test.DOW.value_counts()"
   ]
  },
  {
   "cell_type": "code",
   "execution_count": 822,
   "metadata": {},
   "outputs": [
    {
     "data": {
      "text/plain": [
       "(60, 13)"
      ]
     },
     "execution_count": 822,
     "metadata": {},
     "output_type": "execute_result"
    }
   ],
   "source": [
    "mynew_test.shape"
   ]
  },
  {
   "cell_type": "code",
   "execution_count": 823,
   "metadata": {},
   "outputs": [
    {
     "name": "stderr",
     "output_type": "stream",
     "text": [
      "/anaconda3/lib/python3.6/site-packages/h2o/utils/shared_utils.py:177: FutureWarning: Method .as_matrix will be removed in a future version. Use .values instead.\n",
      "  data = _handle_python_lists(python_obj.as_matrix().tolist(), -1)[1]\n"
     ]
    },
    {
     "name": "stdout",
     "output_type": "stream",
     "text": [
      "Parse progress: |█████████████████████████████████████████████████████████| 100%\n"
     ]
    }
   ],
   "source": [
    "mynew_testhdf = h2o.H2OFrame(mynew_test)"
   ]
  },
  {
   "cell_type": "code",
   "execution_count": 824,
   "metadata": {},
   "outputs": [
    {
     "name": "stdout",
     "output_type": "stream",
     "text": [
      "gbm prediction progress: |████████████████████████████████████████████████| 100%\n"
     ]
    }
   ],
   "source": [
    "mypred = aml.leader.predict(mynew_testhdf)"
   ]
  },
  {
   "cell_type": "code",
   "execution_count": 826,
   "metadata": {},
   "outputs": [],
   "source": [
    "mypredpd = mypred.as_data_frame()\n",
    "mypredpd = mypredpd.reset_index()\n",
    "mymerge = pd.concat([mynew_test, mypredpd], axis = 1)"
   ]
  },
  {
   "cell_type": "code",
   "execution_count": 827,
   "metadata": {},
   "outputs": [
    {
     "data": {
      "text/plain": [
       "PA    20\n",
       "NJ    20\n",
       "NY    20\n",
       "Name: state, dtype: int64"
      ]
     },
     "execution_count": 827,
     "metadata": {},
     "output_type": "execute_result"
    }
   ],
   "source": [
    "mymerge.state.value_counts()"
   ]
  },
  {
   "cell_type": "code",
   "execution_count": 828,
   "metadata": {},
   "outputs": [
    {
     "data": {
      "image/png": "[encoded data removed]",
      "text/plain": [
       "<Figure size 1080x360 with 1 Axes>"
      ]
     },
     "metadata": {},
     "output_type": "display_data"
    },
    {
     "data": {
      "image/png": "[encoded data removed]",
      "text/plain": [
       "<Figure size 1080x360 with 1 Axes>"
      ]
     },
     "metadata": {},
     "output_type": "display_data"
    },
    {
     "data": {
      "image/png": "[encoded data removed]",
      "text/plain": [
       "<Figure size 1080x360 with 1 Axes>"
      ]
     },
     "metadata": {},
     "output_type": "display_data"
    }
   ],
   "source": [
    "plt.rcParams['figure.figsize'] = (15, 5)\n",
    "formatter = DateFormatter('%m/%d/%Y')\n",
    "\n",
    "for state in mymerge.state.unique():\n",
    "    mysub = mymerge[mymerge.state == state]\n",
    "    mysub['datestr'] = [str(i) for i in mysub.date]\n",
    "    mysub['num'] = mdates.datestr2num(mysub.datestr)\n",
    "    fig, ax = plt.subplots()\n",
    "    plt.plot_date(mysub.num, mysub.value, ls = '--')\n",
    "    plt.plot_date(mysub.num, mysub.predict, ls = '-')\n",
    "    #ax.xaxis.set_major_locator(loc)\n",
    "    ax.xaxis.set_major_formatter(formatter)\n",
    "    ax.xaxis.set_tick_params(rotation=30, labelsize=10)\n",
    "    plt.legend()\n",
    "    plt.title(state)\n",
    "\n"
   ]
  },
  {
   "cell_type": "code",
   "execution_count": 834,
   "metadata": {},
   "outputs": [
    {
     "data": {
      "text/html": [
       "<div>\n",
       "<style scoped>\n",
       "    .dataframe tbody tr th:only-of-type {\n",
       "        vertical-align: middle;\n",
       "    }\n",
       "\n",
       "    .dataframe tbody tr th {\n",
       "        vertical-align: top;\n",
       "    }\n",
       "\n",
       "    .dataframe thead th {\n",
       "        text-align: right;\n",
       "    }\n",
       "</style>\n",
       "<table border=\"1\" class=\"dataframe\">\n",
       "  <thead>\n",
       "    <tr style=\"text-align: right;\">\n",
       "      <th></th>\n",
       "      <th>state</th>\n",
       "      <th>date</th>\n",
       "      <th>value</th>\n",
       "      <th>month</th>\n",
       "      <th>datestr</th>\n",
       "      <th>dateobj</th>\n",
       "      <th>timestamp</th>\n",
       "      <th>year</th>\n",
       "      <th>DOY</th>\n",
       "      <th>DOM</th>\n",
       "      <th>DOW</th>\n",
       "      <th>Week</th>\n",
       "      <th>weekly_avg</th>\n",
       "      <th>index</th>\n",
       "      <th>predict</th>\n",
       "    </tr>\n",
       "  </thead>\n",
       "  <tbody>\n",
       "    <tr>\n",
       "      <th>0</th>\n",
       "      <td>NJ</td>\n",
       "      <td>20180125</td>\n",
       "      <td>48980.110242</td>\n",
       "      <td>01</td>\n",
       "      <td>2018-01-25</td>\n",
       "      <td>2018-01-25</td>\n",
       "      <td>1.516864e+09</td>\n",
       "      <td>2018</td>\n",
       "      <td>025</td>\n",
       "      <td>25</td>\n",
       "      <td>4</td>\n",
       "      <td>03</td>\n",
       "      <td>60824.751958</td>\n",
       "      <td>0</td>\n",
       "      <td>66574.398378</td>\n",
       "    </tr>\n",
       "    <tr>\n",
       "      <th>1</th>\n",
       "      <td>NJ</td>\n",
       "      <td>20180126</td>\n",
       "      <td>42271.709522</td>\n",
       "      <td>01</td>\n",
       "      <td>2018-01-26</td>\n",
       "      <td>2018-01-26</td>\n",
       "      <td>1.516950e+09</td>\n",
       "      <td>2018</td>\n",
       "      <td>026</td>\n",
       "      <td>26</td>\n",
       "      <td>5</td>\n",
       "      <td>03</td>\n",
       "      <td>60824.751958</td>\n",
       "      <td>1</td>\n",
       "      <td>58810.693249</td>\n",
       "    </tr>\n",
       "    <tr>\n",
       "      <th>2</th>\n",
       "      <td>NJ</td>\n",
       "      <td>20180127</td>\n",
       "      <td>45361.771549</td>\n",
       "      <td>01</td>\n",
       "      <td>2018-01-27</td>\n",
       "      <td>2018-01-27</td>\n",
       "      <td>1.517036e+09</td>\n",
       "      <td>2018</td>\n",
       "      <td>027</td>\n",
       "      <td>27</td>\n",
       "      <td>6</td>\n",
       "      <td>03</td>\n",
       "      <td>60824.751958</td>\n",
       "      <td>2</td>\n",
       "      <td>58474.479245</td>\n",
       "    </tr>\n",
       "    <tr>\n",
       "      <th>3</th>\n",
       "      <td>NJ</td>\n",
       "      <td>20180128</td>\n",
       "      <td>51420.319156</td>\n",
       "      <td>01</td>\n",
       "      <td>2018-01-28</td>\n",
       "      <td>2018-01-28</td>\n",
       "      <td>1.517123e+09</td>\n",
       "      <td>2018</td>\n",
       "      <td>028</td>\n",
       "      <td>28</td>\n",
       "      <td>0</td>\n",
       "      <td>04</td>\n",
       "      <td>64271.006260</td>\n",
       "      <td>3</td>\n",
       "      <td>66533.061637</td>\n",
       "    </tr>\n",
       "    <tr>\n",
       "      <th>4</th>\n",
       "      <td>NJ</td>\n",
       "      <td>20180129</td>\n",
       "      <td>47762.834157</td>\n",
       "      <td>01</td>\n",
       "      <td>2018-01-29</td>\n",
       "      <td>2018-01-29</td>\n",
       "      <td>1.517209e+09</td>\n",
       "      <td>2018</td>\n",
       "      <td>029</td>\n",
       "      <td>29</td>\n",
       "      <td>1</td>\n",
       "      <td>04</td>\n",
       "      <td>64271.006260</td>\n",
       "      <td>4</td>\n",
       "      <td>76979.733235</td>\n",
       "    </tr>\n",
       "  </tbody>\n",
       "</table>\n",
       "</div>"
      ],
      "text/plain": [
       "  state      date         value month     datestr    dateobj     timestamp  \\\n",
       "0    NJ  20180125  48980.110242    01  2018-01-25 2018-01-25  1.516864e+09   \n",
       "1    NJ  20180126  42271.709522    01  2018-01-26 2018-01-26  1.516950e+09   \n",
       "2    NJ  20180127  45361.771549    01  2018-01-27 2018-01-27  1.517036e+09   \n",
       "3    NJ  20180128  51420.319156    01  2018-01-28 2018-01-28  1.517123e+09   \n",
       "4    NJ  20180129  47762.834157    01  2018-01-29 2018-01-29  1.517209e+09   \n",
       "\n",
       "   year  DOY DOM DOW Week    weekly_avg  index       predict  \n",
       "0  2018  025  25   4   03  60824.751958      0  66574.398378  \n",
       "1  2018  026  26   5   03  60824.751958      1  58810.693249  \n",
       "2  2018  027  27   6   03  60824.751958      2  58474.479245  \n",
       "3  2018  028  28   0   04  64271.006260      3  66533.061637  \n",
       "4  2018  029  29   1   04  64271.006260      4  76979.733235  "
      ]
     },
     "execution_count": 834,
     "metadata": {},
     "output_type": "execute_result"
    }
   ],
   "source": [
    "mymerge.head()"
   ]
  },
  {
   "cell_type": "code",
   "execution_count": 835,
   "metadata": {},
   "outputs": [],
   "source": [
    "mymerge.to_csv('prediction.csv', index = False)"
   ]
  },
  {
   "cell_type": "markdown",
   "metadata": {},
   "source": [
    "## LSTM"
   ]
  },
  {
   "cell_type": "markdown",
   "metadata": {},
   "source": [
    "### Data preparation"
   ]
  },
  {
   "cell_type": "code",
   "execution_count": 448,
   "metadata": {},
   "outputs": [
    {
     "name": "stdout",
     "output_type": "stream",
     "text": [
      "state\n",
      "<class 'str'>\n",
      "date\n",
      "<class 'numpy.int64'>\n",
      "value\n",
      "<class 'numpy.float64'>\n",
      "month\n",
      "<class 'str'>\n",
      "datestr\n",
      "<class 'str'>\n",
      "dateobj\n",
      "<class 'pandas._libs.tslibs.timestamps.Timestamp'>\n",
      "timestamp\n",
      "<class 'numpy.float64'>\n",
      "year\n",
      "<class 'str'>\n",
      "DOY\n",
      "<class 'str'>\n",
      "DOM\n",
      "<class 'str'>\n",
      "DOW\n",
      "<class 'str'>\n",
      "Week\n",
      "<class 'str'>\n",
      "weekly_avg\n",
      "<class 'numpy.float64'>\n",
      "monthly_avg\n",
      "<class 'numpy.float64'>\n"
     ]
    }
   ],
   "source": [
    "for i in mydata.columns:\n",
    "    print(i)\n",
    "    print(type(mydata[i][0]))"
   ]
  },
  {
   "cell_type": "code",
   "execution_count": 449,
   "metadata": {},
   "outputs": [
    {
     "data": {
      "text/plain": [
       "(2538, 963)"
      ]
     },
     "execution_count": 449,
     "metadata": {},
     "output_type": "execute_result"
    }
   ],
   "source": [
    "scaled.shape"
   ]
  },
  {
   "cell_type": "code",
   "execution_count": 456,
   "metadata": {},
   "outputs": [],
   "source": [
    "y = mydata['value']"
   ]
  },
  {
   "cell_type": "code",
   "execution_count": 457,
   "metadata": {},
   "outputs": [],
   "source": [
    "mytrain = pd.DataFrame()\n",
    "mycv = pd.DataFrame()\n",
    "mytest = pd.DataFrame()\n",
    "\n",
    "\n",
    "for state in mydata.state.unique():\n",
    "    train = mydata[(mydata.state == state)& (mydata.timestamp < time_list[state][0] )]\n",
    "    mytrain = mytrain.append(pd.DataFrame(data = train), ignore_index = True)\n",
    "    \n",
    "    cv = mydata[(mydata.state == state) & (mydata.timestamp >= time_list[state][0]) & (mydata.timestamp < time_list[state][1])]\n",
    "    mycv = mycv.append(pd.DataFrame(data = cv), ignore_index = True)\n",
    "    \n",
    "    test = mydata[(mydata.state == state) & (mydata.timestamp >= time_list[state][1])]\n",
    "    mytest = mytest.append(pd.DataFrame(data = test), ignore_index = True)\n",
    "    \n"
   ]
  },
  {
   "cell_type": "code",
   "execution_count": 458,
   "metadata": {},
   "outputs": [],
   "source": [
    "mynewdata = mytrain.append(mycv)\n",
    "mynewdata = mynewdata.append(mytest)"
   ]
  },
  {
   "cell_type": "code",
   "execution_count": 459,
   "metadata": {},
   "outputs": [
    {
     "data": {
      "text/plain": [
       "((2538, 14), (2031, 14), (252, 14), (255, 14))"
      ]
     },
     "execution_count": 459,
     "metadata": {},
     "output_type": "execute_result"
    }
   ],
   "source": [
    "mynewdata.shape, mytrain.shape, mycv.shape, mytest.shape"
   ]
  },
  {
   "cell_type": "code",
   "execution_count": 460,
   "metadata": {},
   "outputs": [],
   "source": [
    "mynewdata['timestamp'] = mynewdata['timestamp'].astype('int')\n",
    "mynewdata['dateobj'] = mynewdata['dateobj'].astype('int')\n",
    "mynewdata['DOY'] = mynewdata['DOY'].astype('int')\n",
    "mydummy = pd.get_dummies(mynewdata.drop(['value', 'datestr'], axis = 1))\n",
    "values = mydummy.values\n",
    "encoder = LabelEncoder()\n",
    "values[:,4] = encoder.fit_transform(values[:,4])\n",
    "\n",
    "values = values.astype('float32')\n",
    "scaler = MinMaxScaler(feature_range=(0, 1))\n",
    "scaled = scaler.fit_transform(values)\n",
    "\n",
    "y = mynewdata['value']"
   ]
  },
  {
   "cell_type": "code",
   "execution_count": 461,
   "metadata": {},
   "outputs": [
    {
     "data": {
      "text/plain": [
       "((2538, 117), (2538,), (2031, 14), (252, 14), (255, 14))"
      ]
     },
     "execution_count": 461,
     "metadata": {},
     "output_type": "execute_result"
    }
   ],
   "source": [
    "scaled.shape, y.shape, mytrain.shape, mycv.shape, mytest.shape"
   ]
  },
  {
   "cell_type": "code",
   "execution_count": 421,
   "metadata": {},
   "outputs": [
    {
     "name": "stdout",
     "output_type": "stream",
     "text": [
      "(2283, 963) (2283,)\n",
      "(255, 963) (255,)\n",
      "(2283, 1, 963) (2283,)\n",
      "(255, 1, 963) (255,)\n"
     ]
    }
   ],
   "source": [
    "n_num = 2283\n",
    "\n",
    "train_X, train_y = scaled[:n_num, :], y[:n_num]\n",
    "test_X, test_y = scaled[n_num:, :], y[n_num:]\n",
    "print(train_X.shape, train_y.shape)\n",
    "print(test_X.shape, test_y.shape)\n",
    "\n",
    "train_X = train_X.reshape((train_X.shape[0], 1, train_X.shape[1]))\n",
    "test_X = test_X.reshape((test_X.shape[0], 1, test_X.shape[1]))\n",
    "\n",
    "print(train_X.shape, train_y.shape)\n",
    "print(test_X.shape, test_y.shape)\n",
    "\n"
   ]
  },
  {
   "cell_type": "code",
   "execution_count": 464,
   "metadata": {},
   "outputs": [],
   "source": [
    "from keras.layers.core import Dense, Activation, Dropout\n"
   ]
  },
  {
   "cell_type": "code",
   "execution_count": 466,
   "metadata": {},
   "outputs": [],
   "source": [
    "def build_model():\n",
    "    print('Building model...')\n",
    "    model = Sequential()\n",
    "    model.add(LSTM(117, input_shape = (train_X.shape[1], train_X.shape[2]),\n",
    "                   return_sequences=True))\n",
    "    model.add(Dropout(0.2))\n",
    "    model.add(LSTM(117, return_sequences=False))\n",
    "    model.add(Dense(1, activation = 'relu'))\n",
    "\n",
    "    model.compile(loss='mae',metrics=['mae'], optimizer= \"RMSprop\")\n",
    "    return model\n",
    "\n",
    "def train(model):\n",
    "    print('Train...')\n",
    "    history = model.fit(train_X, train_y,\n",
    "              batch_size=7,\n",
    "              epochs=30, validation_data=(test_X, test_y), shuffle = False)\n",
    "    score = model.evaluate(test_X, test_y, batch_size=7)\n",
    "    \n",
    "    plt.plot(history.history['loss'], label='train')\n",
    "    plt.plot(history.history['val_loss'], label='test')\n",
    "    plt.legend()\n",
    "    plt.show()\n",
    "    print('Test score:', score)\n",
    "\n"
   ]
  },
  {
   "cell_type": "code",
   "execution_count": 467,
   "metadata": {},
   "outputs": [
    {
     "name": "stdout",
     "output_type": "stream",
     "text": [
      "Building model...\n",
      "Train...\n",
      "Train on 2283 samples, validate on 255 samples\n",
      "Epoch 1/30\n",
      "2283/2283 [==============================] - 10s 4ms/step - loss: 47285.4441 - mean_absolute_error: 47285.4441 - val_loss: 61004.1652 - val_mean_absolute_error: 61004.1652\n",
      "Epoch 2/30\n",
      "2283/2283 [==============================] - 2s 899us/step - loss: 47253.6616 - mean_absolute_error: 47253.6616 - val_loss: 60974.6987 - val_mean_absolute_error: 60974.6987\n",
      "Epoch 3/30\n",
      "2283/2283 [==============================] - 2s 868us/step - loss: 47224.1969 - mean_absolute_error: 47224.1969 - val_loss: 60945.2339 - val_mean_absolute_error: 60945.2339\n",
      "Epoch 4/30\n",
      "2283/2283 [==============================] - 2s 883us/step - loss: 47194.7310 - mean_absolute_error: 47194.7310 - val_loss: 60915.7686 - val_mean_absolute_error: 60915.7686\n",
      "Epoch 5/30\n",
      "2283/2283 [==============================] - 2s 946us/step - loss: 47165.2649 - mean_absolute_error: 47165.2649 - val_loss: 60886.3000 - val_mean_absolute_error: 60886.3000\n",
      "Epoch 6/30\n",
      "2283/2283 [==============================] - 2s 906us/step - loss: 47135.7991 - mean_absolute_error: 47135.7991 - val_loss: 60856.8363 - val_mean_absolute_error: 60856.8363\n",
      "Epoch 7/30\n",
      "2283/2283 [==============================] - 2s 1ms/step - loss: 47106.3354 - mean_absolute_error: 47106.3354 - val_loss: 60827.3719 - val_mean_absolute_error: 60827.3719\n",
      "Epoch 8/30\n",
      "2283/2283 [==============================] - 2s 854us/step - loss: 47076.8724 - mean_absolute_error: 47076.8724 - val_loss: 60797.9089 - val_mean_absolute_error: 60797.9089\n",
      "Epoch 9/30\n",
      "2283/2283 [==============================] - 2s 723us/step - loss: 47047.4099 - mean_absolute_error: 47047.4099 - val_loss: 60768.4487 - val_mean_absolute_error: 60768.4487\n",
      "Epoch 10/30\n",
      "2283/2283 [==============================] - 2s 801us/step - loss: 47017.9472 - mean_absolute_error: 47017.9472 - val_loss: 60738.9862 - val_mean_absolute_error: 60738.9862\n",
      "Epoch 11/30\n",
      "2283/2283 [==============================] - 2s 768us/step - loss: 46988.4844 - mean_absolute_error: 46988.4844 - val_loss: 60709.5235 - val_mean_absolute_error: 60709.5235\n",
      "Epoch 12/30\n",
      "2283/2283 [==============================] - 2s 762us/step - loss: 46959.0217 - mean_absolute_error: 46959.0217 - val_loss: 60680.0598 - val_mean_absolute_error: 60680.0598\n",
      "Epoch 13/30\n",
      "2283/2283 [==============================] - 2s 755us/step - loss: 46929.5592 - mean_absolute_error: 46929.5592 - val_loss: 60650.5966 - val_mean_absolute_error: 60650.5966\n",
      "Epoch 14/30\n",
      "2283/2283 [==============================] - 2s 797us/step - loss: 46900.0964 - mean_absolute_error: 46900.0964 - val_loss: 60621.1362 - val_mean_absolute_error: 60621.1362\n",
      "Epoch 15/30\n",
      "2283/2283 [==============================] - 2s 876us/step - loss: 46870.6340 - mean_absolute_error: 46870.6340 - val_loss: 60591.6720 - val_mean_absolute_error: 60591.6720\n",
      "Epoch 16/30\n",
      "2283/2283 [==============================] - 2s 950us/step - loss: 46841.1712 - mean_absolute_error: 46841.1712 - val_loss: 60562.2088 - val_mean_absolute_error: 60562.2088\n",
      "Epoch 17/30\n",
      "2283/2283 [==============================] - 2s 900us/step - loss: 46811.7085 - mean_absolute_error: 46811.7085 - val_loss: 60532.7445 - val_mean_absolute_error: 60532.7445\n",
      "Epoch 18/30\n",
      "2283/2283 [==============================] - 2s 901us/step - loss: 46782.2454 - mean_absolute_error: 46782.2454 - val_loss: 60503.2838 - val_mean_absolute_error: 60503.2838\n",
      "Epoch 19/30\n",
      "2283/2283 [==============================] - 2s 924us/step - loss: 46752.7830 - mean_absolute_error: 46752.7830 - val_loss: 60473.8235 - val_mean_absolute_error: 60473.8235\n",
      "Epoch 20/30\n",
      "2283/2283 [==============================] - 2s 863us/step - loss: 46723.3205 - mean_absolute_error: 46723.3205 - val_loss: 60444.3589 - val_mean_absolute_error: 60444.3589\n",
      "Epoch 21/30\n",
      "2283/2283 [==============================] - 2s 848us/step - loss: 46693.8575 - mean_absolute_error: 46693.8575 - val_loss: 60414.8961 - val_mean_absolute_error: 60414.8961\n",
      "Epoch 22/30\n",
      "2283/2283 [==============================] - 2s 846us/step - loss: 46664.3949 - mean_absolute_error: 46664.3949 - val_loss: 60385.4318 - val_mean_absolute_error: 60385.4318\n",
      "Epoch 23/30\n",
      "2283/2283 [==============================] - 2s 902us/step - loss: 46634.9322 - mean_absolute_error: 46634.9322 - val_loss: 60355.9714 - val_mean_absolute_error: 60355.9714\n",
      "Epoch 24/30\n",
      "2283/2283 [==============================] - 2s 878us/step - loss: 46605.4693 - mean_absolute_error: 46605.4693 - val_loss: 60326.5069 - val_mean_absolute_error: 60326.5069\n",
      "Epoch 25/30\n",
      "2283/2283 [==============================] - 2s 798us/step - loss: 46575.9998 - mean_absolute_error: 46575.9998 - val_loss: 60297.0315 - val_mean_absolute_error: 60297.0315\n",
      "Epoch 26/30\n",
      "2283/2283 [==============================] - 2s 903us/step - loss: 46546.5234 - mean_absolute_error: 46546.5234 - val_loss: 60267.5545 - val_mean_absolute_error: 60267.5545\n",
      "Epoch 27/30\n",
      "2283/2283 [==============================] - 2s 994us/step - loss: 46517.0468 - mean_absolute_error: 46517.0468 - val_loss: 60238.0780 - val_mean_absolute_error: 60238.0780\n",
      "Epoch 28/30\n",
      "2283/2283 [==============================] - 2s 975us/step - loss: 46487.5699 - mean_absolute_error: 46487.5699 - val_loss: 60208.6021 - val_mean_absolute_error: 60208.6021\n",
      "Epoch 29/30\n",
      "2283/2283 [==============================] - 2s 965us/step - loss: 46458.0930 - mean_absolute_error: 46458.0930 - val_loss: 60179.1245 - val_mean_absolute_error: 60179.1245\n",
      "Epoch 30/30\n",
      "2283/2283 [==============================] - 2s 916us/step - loss: 46428.6164 - mean_absolute_error: 46428.6164 - val_loss: 60149.6481 - val_mean_absolute_error: 60149.6481\n",
      "255/255 [==============================] - 0s 244us/step\n"
     ]
    },
    {
     "data": {
      "image/png": "[encoded data removed]",
      "text/plain": [
       "<Figure size 1080x360 with 1 Axes>"
      ]
     },
     "metadata": {},
     "output_type": "display_data"
    },
    {
     "name": "stdout",
     "output_type": "stream",
     "text": [
      "Test score: [60149.648054534315, 60149.648054534315]\n"
     ]
    }
   ],
   "source": [
    "my_lstm = build_model()\n",
    "train(my_lstm)"
   ]
  },
  {
   "cell_type": "code",
   "execution_count": null,
   "metadata": {},
   "outputs": [],
   "source": []
  },
  {
   "cell_type": "code",
   "execution_count": null,
   "metadata": {},
   "outputs": [],
   "source": []
  },
  {
   "cell_type": "code",
   "execution_count": 186,
   "metadata": {},
   "outputs": [],
   "source": [
    "### TODO"
   ]
  },
  {
   "cell_type": "markdown",
   "metadata": {},
   "source": [
    "### FEATURE ENG for row diff"
   ]
  },
  {
   "cell_type": "markdown",
   "metadata": {},
   "source": [
    "## model row diff\n",
    "\n",
    "## MObility\n",
    "\n",
    "## ADD FLU SEASON\n",
    "\n",
    "## LSTM"
   ]
  },
  {
   "cell_type": "code",
   "execution_count": null,
   "metadata": {},
   "outputs": [],
   "source": []
  }
 ],
 "metadata": {
  "kernelspec": {
   "display_name": "Python 3",
   "language": "python",
   "name": "python3"
  },
  "language_info": {
   "codemirror_mode": {
    "name": "ipython",
    "version": 3
   },
   "file_extension": ".py",
   "mimetype": "text/x-python",
   "name": "python",
   "nbconvert_exporter": "python",
   "pygments_lexer": "ipython3",
   "version": "3.6.5"
  }
 },
 "nbformat": 4,
 "nbformat_minor": 2
}
